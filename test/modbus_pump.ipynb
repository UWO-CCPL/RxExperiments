{
 "cells": [
  {
   "cell_type": "code",
   "execution_count": 1,
   "metadata": {},
   "outputs": [
    {
     "name": "stdout",
     "output_type": "stream",
     "text": [
      "C:\\Users\\wuyua\\PycharmProjects\\RxExperiments\n"
     ]
    }
   ],
   "source": [
    "%cd .."
   ]
  },
  {
   "cell_type": "code",
   "execution_count": 2,
   "metadata": {},
   "outputs": [],
   "source": [
    "%load_ext autoreload\n",
    "%autoreload 2\n",
    "%matplotlib notebook\n",
    "from matplotlib import pyplot as plt\n",
    "from rx import operators\n",
    "\n",
    "from configs.config import GlobalConfig\n",
    "GlobalConfig.initialize_global_configuration()"
   ]
  },
  {
   "cell_type": "code",
   "execution_count": 3,
   "metadata": {},
   "outputs": [
    {
     "data": {
      "application/vnd.jupyter.widget-view+json": {
       "model_id": "1600e5cf6a3643ee8b8fc17f7410005c",
       "version_major": 2,
       "version_minor": 0
      },
      "text/plain": [
       "Output()"
      ]
     },
     "metadata": {},
     "output_type": "display_data"
    }
   ],
   "source": [
    "import logging\n",
    "from utils.logging import configure_logger_to_output\n",
    "logging_output = configure_logger_to_output(level=logging.INFO)\n",
    "logging_output"
   ]
  },
  {
   "cell_type": "code",
   "execution_count": 4,
   "metadata": {},
   "outputs": [],
   "source": [
    "from controls.modbus_pump import ModbusPumpControl, ModbusPumpControlCommand\n",
    "\n",
    "pump_control = ModbusPumpControl()"
   ]
  },
  {
   "cell_type": "code",
   "execution_count": 5,
   "metadata": {},
   "outputs": [
    {
     "data": {
      "application/vnd.jupyter.widget-view+json": {
       "model_id": "91731a00a44e4cb6aae471cb11b54633",
       "version_major": 2,
       "version_minor": 0
      },
      "text/plain": [
       "HBox(children=(FloatText(value=0.0, description='Slurry: '), FloatText(value=0.0, description='Clear: ')))"
      ]
     },
     "metadata": {},
     "output_type": "display_data"
    }
   ],
   "source": [
    "import ipywidgets as widgets\n",
    "import rx\n",
    "from utils.observable_factory import from_callback\n",
    "\n",
    "slurry_input = widgets.FloatText(description=\"Slurry: \")\n",
    "clear_input = widgets.FloatText(description=\"Clear: \")\n",
    "        \n",
    "slurry_obs = from_callback(slurry_input.observe)().pipe(\n",
    "    operators.filter(lambda x: x[\"type\"] == \"change\"),\n",
    "    operators.map(lambda x: x[\"new\"]),\n",
    "    operators.filter(lambda x: isinstance(x, float)),\n",
    ")\n",
    "clear_obs = from_callback(clear_input.observe)().pipe(\n",
    "    operators.filter(lambda x: x[\"type\"] == \"change\"),\n",
    "    operators.map(lambda x: x[\"new\"]),\n",
    "    operators.filter(lambda x: isinstance(x, float)),\n",
    ")\n",
    "\n",
    "rx.combine_latest(slurry_obs, clear_obs).pipe(\n",
    "    operators.map(lambda x: ModbusPumpControlCommand().set_clear_pump(x[1]).set_slurry_pump(x[0]))\n",
    ").subscribe(pump_control)\n",
    "widgets.HBox([slurry_input, clear_input])"
   ]
  },
  {
   "cell_type": "code",
   "execution_count": null,
   "metadata": {},
   "outputs": [],
   "source": []
  }
 ],
 "metadata": {
  "kernelspec": {
   "display_name": "Python 3",
   "language": "python",
   "name": "python3"
  },
  "language_info": {
   "codemirror_mode": {
    "name": "ipython",
    "version": 3
   },
   "file_extension": ".py",
   "mimetype": "text/x-python",
   "name": "python",
   "nbconvert_exporter": "python",
   "pygments_lexer": "ipython3",
   "version": "3.7.3"
  }
 },
 "nbformat": 4,
 "nbformat_minor": 2
}
