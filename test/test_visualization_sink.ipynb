{
 "cells": [
  {
   "cell_type": "code",
   "execution_count": 2,
   "metadata": {
    "pycharm": {
     "is_executing": false
    }
   },
   "outputs": [],
   "source": [
    "import logging\n",
    "import time\n",
    "from IPython.core.display import display\n",
    "from sink.visualization_sink import PlotlyVisualizationSink\n",
    "from source.mqtt_source import MQTTSource\n",
    "from source.mqtt_wrapper import MqttClientWrapper\n",
    "from plotly import graph_objects as go\n",
    "import pandas as pd\n",
    "import datetime\n",
    "import numpy as np\n",
    "from rx import scheduler\n",
    "from utils.logging import configure_logger_to_output\n",
    "logger_output = configure_logger_to_output(logging.root)\n",
    "logging.root.setLevel(logging.INFO)\n",
    "import rx\n",
    "from rx import operators\n",
    "if 'RUN_ONCE' not in globals():\n",
    "    %cd ..\n",
    "    RUN_ONCE = True\n",
    "    "
   ]
  },
  {
   "cell_type": "code",
   "execution_count": 3,
   "metadata": {
    "pycharm": {
     "is_executing": false,
     "name": "#%%\n"
    },
    "scrolled": false
   },
   "outputs": [
    {
     "data": {
      "application/vnd.jupyter.widget-view+json": {
       "model_id": "ae06afb3b8ed4e93afa07a4d48a9a1c1",
       "version_major": 2,
       "version_minor": 0
      },
      "text/plain": [
       "Output()"
      ]
     },
     "metadata": {},
     "output_type": "display_data"
    },
    {
     "data": {
      "application/vnd.jupyter.widget-view+json": {
       "model_id": "29a41b09c1af43cea3ec618c9270c42a",
       "version_major": 2,
       "version_minor": 0
      },
      "text/plain": [
       "FigureWidget({\n",
       "    'data': [], 'layout': {'template': '...', 'title': {'text': 'plot'}}\n",
       "})"
      ]
     },
     "metadata": {},
     "output_type": "display_data"
    }
   ],
   "source": [
    "# Test update random plot\n",
    "logger_output.clear_output()\n",
    "plotly_sink = PlotlyVisualizationSink()\n",
    "\n",
    "rx.interval(2.0).pipe(\n",
    "    operators.map(lambda *args: np.random.random(200)),\n",
    "    operators.map(lambda y: [{\"type\": \"scatter\", \"y\":y}]),\n",
    "    operators.take_until_with_time(10)\n",
    ").subscribe(plotly_sink)\n",
    "\n",
    "\n",
    "display(logger_output)\n",
    "display(plotly_sink.figure)\n",
    "\n",
    "\n"
   ]
  },
  {
   "cell_type": "code",
   "execution_count": 9,
   "metadata": {
    "pycharm": {
     "is_executing": false,
     "name": "#%%\n"
    },
    "scrolled": false
   },
   "outputs": [],
   "source": [
    "# Test update timeseries plot\n",
    "logger_output.clear_output()\n",
    "plotly_sink = PlotlyVisualizationSink()\n",
    "\n",
    "def acc(x: pd.DataFrame, a):\n",
    "    return x.append(pd.DataFrame([{\"time\": datetime.datetime.now(), \"y\": a, \"x\":a}]))\n",
    "\n",
    "sc = scheduler.NewThreadScheduler()\n",
    "rx.interval(1.0, sc).pipe(\n",
    "    operators.scan(acc, pd.DataFrame()),\n",
    "    operators.map(lambda x: x.tail(5)),\n",
    "    operators.map(lambda x: [go.Scatter(y=x.y, x=x.x)]),\n",
    "    operators.take_until_with_time(20),\n",
    ").subscribe(plotly_sink)\n",
    "\n",
    "\n",
    "display(logger_output)\n",
    "display(plotly_sink.figure)\n",
    "\n",
    "\n",
    "\n"
   ]
  },
  {
   "cell_type": "code",
   "execution_count": null,
   "metadata": {
    "pycharm": {
     "name": "#%%\n"
    }
   },
   "outputs": [],
   "source": [
    "\n"
   ]
  }
 ],
 "metadata": {
  "kernelspec": {
   "display_name": "Python 3",
   "language": "python",
   "name": "python3"
  },
  "language_info": {
   "codemirror_mode": {
    "name": "ipython",
    "version": 3
   },
   "file_extension": ".py",
   "mimetype": "text/x-python",
   "name": "python",
   "nbconvert_exporter": "python",
   "pygments_lexer": "ipython3",
   "version": "3.7.5"
  },
  "pycharm": {
   "stem_cell": {
    "cell_type": "raw",
    "metadata": {
     "collapsed": false
    },
    "source": []
   }
  }
 },
 "nbformat": 4,
 "nbformat_minor": 1
}
