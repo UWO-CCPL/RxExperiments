{
 "cells": [
  {
   "cell_type": "code",
   "execution_count": 1,
   "metadata": {
    "pycharm": {
     "is_executing": false
    }
   },
   "outputs": [
    {
     "name": "stdout",
     "output_type": "stream",
     "text": [
      "/home/wuyuanyi/PycharmProjects/RxExperiment\n"
     ]
    }
   ],
   "source": [
    "import logging\n",
    "import time\n",
    "from IPython.core.display import display\n",
    "from sink.visualization_sink import PlotlyVisualizationSink\n",
    "from source.mqtt_source import MQTTSource\n",
    "from source.mqtt_wrapper import MqttClientWrapper\n",
    "from plotly import graph_objects as go\n",
    "import numpy as np\n",
    "from utils.logging import configure_logger_to_output\n",
    "logger_output = configure_logger_to_output(logging.root)\n",
    "logging.root.setLevel(logging.INFO)\n",
    "import rx\n",
    "from rx import operators\n",
    "if 'RUN_ONCE' not in globals():\n",
    "    %cd ..\n",
    "    RUN_ONCE = True\n",
    "    "
   ]
  },
  {
   "cell_type": "code",
   "execution_count": 3,
   "metadata": {
    "pycharm": {
     "is_executing": false,
     "name": "#%%\n"
    }
   },
   "outputs": [
    {
     "data": {
      "application/vnd.jupyter.widget-view+json": {
       "model_id": "a235f57fb32f4a45b270e74d1bc1b012",
       "version_major": 2,
       "version_minor": 0
      },
      "text/plain": [
       "FigureWidget({\n",
       "    'data': [], 'layout': {'template': '...', 'title': {'text': 'plot'}}\n",
       "})"
      ]
     },
     "metadata": {},
     "output_type": "display_data"
    }
   ],
   "source": [
    "# Test update random plot\n",
    "logger_output.clear_output()\n",
    "plotly_sink = PlotlyVisualizationSink()\n",
    "\n",
    "rx.interval(2.0).pipe(\n",
    "    operators.map(lambda *args: np.random.random(200)),\n",
    "    operators.map(lambda y: [{\"type\": \"scatter\", \"y\":y}]),\n",
    "    operators.take_until_with_time(10)\n",
    ").subscribe(plotly_sink)\n",
    "\n",
    "\n",
    "# display(logger_output)\n",
    "display(plotly_sink.figure)\n",
    "\n",
    "\n"
   ]
  },
  {
   "cell_type": "code",
   "execution_count": 4,
   "metadata": {},
   "outputs": [
    {
     "data": {
      "application/vnd.jupyter.widget-view+json": {
       "model_id": "a268e64f53314a1190552b0ec5003c47",
       "version_major": 2,
       "version_minor": 0
      },
      "text/plain": [
       "FigureWidget({\n",
       "    'data': [], 'layout': {'template': '...', 'title': {'text': 'plot'}}\n",
       "})"
      ]
     },
     "metadata": {},
     "output_type": "display_data"
    }
   ],
   "source": [
    "plotly_sink = PlotlyVisualizationSink()\n",
    "plotly_sink.fig"
   ]
  },
  {
   "cell_type": "code",
   "execution_count": null,
   "metadata": {},
   "outputs": [],
   "source": []
  }
 ],
 "metadata": {
  "kernelspec": {
   "display_name": "Python 3",
   "language": "python",
   "name": "python3"
  },
  "language_info": {
   "codemirror_mode": {
    "name": "ipython",
    "version": 3
   },
   "file_extension": ".py",
   "mimetype": "text/x-python",
   "name": "python",
   "nbconvert_exporter": "python",
   "pygments_lexer": "ipython3",
   "version": "3.7.5"
  },
  "pycharm": {
   "stem_cell": {
    "cell_type": "raw",
    "metadata": {
     "collapsed": false
    },
    "source": []
   }
  }
 },
 "nbformat": 4,
 "nbformat_minor": 1
}
