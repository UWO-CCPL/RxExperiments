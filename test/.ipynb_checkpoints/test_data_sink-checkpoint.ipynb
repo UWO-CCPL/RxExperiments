{
 "cells": [
  {
   "cell_type": "code",
   "execution_count": 1,
   "metadata": {
    "collapsed": true,
    "pycharm": {
     "is_executing": false
    }
   },
   "outputs": [
    {
     "name": "stdout",
     "output_type": "stream",
     "text": [
      "/home/wuyuanyi/PycharmProjects/RxExperiment\n"
     ]
    }
   ],
   "source": [
    "from datetime import datetime\n",
    "from rx import operators\n",
    "try:\n",
    "    RUN_ONCE\n",
    "except NameError:\n",
    "    %cd ..\n",
    "\n",
    "    import logging\n",
    "    from source.mqtt_wrapper import MqttClientWrapper\n",
    "    from source.mqtt_source import MQTTSource\n",
    "    from sink.save_data_sink import SaveDataSink\n",
    "    from utils.logging import configure_logger_to_output\n",
    "    from paho.mqtt.client import MQTTMessage\n",
    "    import pandas as pd\n",
    "    import plotly\n",
    "    \n",
    "    logger_output = configure_logger_to_output(logging.root)\n",
    "    logging.root.setLevel(logging.DEBUG)\n",
    "\n",
    "    RUN_ONCE = True"
   ]
  },
  {
   "cell_type": "code",
   "execution_count": 2,
   "metadata": {
    "pycharm": {
     "is_executing": false,
     "name": "#%%\n"
    }
   },
   "outputs": [
    {
     "data": {
      "application/vnd.jupyter.widget-view+json": {
       "model_id": "ae6135be831f44b78b9808cbd11aba0f",
       "version_major": 2,
       "version_minor": 0
      },
      "text/plain": [
       "Output(outputs=({'output_type': 'stream', 'name': 'stdout', 'text': 'storing data every 5.0 seconds'}, {'outpu…"
      ]
     },
     "metadata": {},
     "output_type": "display_data"
    }
   ],
   "source": [
    "client = MqttClientWrapper(\"test_data_sink\")\n",
    "client.connect(\"127.0.0.1\")\n",
    "client.loop_start()\n",
    "source = MQTTSource(client, \"test/#\")\n",
    "sink_autosave = SaveDataSink(\"test_autosave\", None)\n",
    "sink_interval = SaveDataSink(\"test_interval\", 5.0)\n",
    "\n",
    "\n",
    "def mqtt_df_transformer(x: MQTTMessage):\n",
    "    try:\n",
    "        data = float(x.payload)\n",
    "        return pd.DataFrame([{\"time\": datetime.now(), \"data\": data}])\n",
    "    except Exception as ex:\n",
    "        logging.error(\"Failed to parse mqtt message\", exc_info=ex)\n",
    "    \n",
    "# source.pipe(\n",
    "#     operators.map(mqtt_df_transformer)\n",
    "# ).subscribe(sink_autosave)\n",
    "source.pipe(\n",
    "    operators.map(mqtt_df_transformer)\n",
    ").subscribe(sink_interval)\n",
    "logger_output"
   ]
  },
  {
   "cell_type": "code",
   "execution_count": 5,
   "metadata": {
    "pycharm": {
     "is_executing": false,
     "name": "#%%\n"
    }
   },
   "outputs": [
    {
     "data": {
      "text/plain": [
       "<rx.disposable.disposable.Disposable at 0x7fd36f5a5b10>"
      ]
     },
     "execution_count": 5,
     "metadata": {},
     "output_type": "execute_result"
    }
   ],
   "source": [
    "\n",
    "import rx\n",
    "rx.interval(5.0).subscribe(logging.info)"
   ]
  },
  {
   "cell_type": "code",
   "execution_count": 14,
   "metadata": {
    "pycharm": {
     "is_executing": false,
     "name": "#%%\n"
    }
   },
   "outputs": [
    {
     "data": {
      "text/plain": [
       "0   2020-01-05 23:12:10.041242\n",
       "0   2020-01-05 23:12:14.204952\n",
       "0   2020-01-05 23:12:14.389132\n",
       "0   2020-01-05 23:12:14.572613\n",
       "0   2020-01-05 23:12:14.723053\n",
       "0   2020-01-05 23:12:14.905194\n",
       "0   2020-01-05 23:12:15.071720\n",
       "0   2020-01-05 23:12:15.238845\n",
       "Name: time, dtype: datetime64[ns]"
      ]
     },
     "execution_count": 14,
     "metadata": {},
     "output_type": "execute_result"
    }
   ],
   "source": [
    "data = pd.read_pickle(\"data/test_interval.pkl\")\n",
    "data[\"time\"]"
   ]
  },
  {
   "cell_type": "code",
   "execution_count": 6,
   "metadata": {
    "pycharm": {
     "is_executing": false,
     "name": "#%%\n"
    }
   },
   "outputs": [
    {
     "data": {
      "application/vnd.jupyter.widget-view+json": {
       "model_id": "bb3bd2c6e721441283fa3f2dfb1e2b73",
       "version_major": 2,
       "version_minor": 0
      },
      "text/plain": [
       "FigureWidget({\n",
       "    'data': [{'type': 'scatter', 'uid': '48b91b5f-aa5e-4def-ba60-8bc154749fb7', 'y': []}], 'lay…"
      ]
     },
     "metadata": {},
     "output_type": "display_data"
    }
   ],
   "source": [
    "\n",
    "\n",
    "import time\n",
    "import plotly.graph_objects as go\n",
    "\n",
    "data = [1,3,2,4,3,3,2,3]\n",
    "\n",
    "fig = go.FigureWidget()\n",
    "fig.add_scatter()\n",
    "fig.data[0].y=()\n",
    "fig"
   ]
  },
  {
   "cell_type": "code",
   "execution_count": 9,
   "metadata": {
    "pycharm": {
     "is_executing": true,
     "name": "#%%\n"
    }
   },
   "outputs": [
    {
     "data": {
      "text/plain": [
       "<rx.disposable.disposable.Disposable at 0x7f0dd3dd89d0>"
      ]
     },
     "execution_count": 9,
     "metadata": {},
     "output_type": "execute_result"
    }
   ],
   "source": [
    "import random\n",
    "import rx\n",
    "def update(x):\n",
    "    with fig.batch_update():\n",
    "        fig.data[0].y = fig.data[0].y + (random.random(),)\n",
    "rx.interval(1).subscribe(update, print)\n"
   ]
  },
  {
   "cell_type": "code",
   "execution_count": null,
   "metadata": {
    "pycharm": {
     "name": "#%%\n"
    }
   },
   "outputs": [],
   "source": [
    "\n"
   ]
  }
 ],
 "metadata": {
  "kernelspec": {
   "display_name": "Python 3",
   "language": "python",
   "name": "python3"
  },
  "language_info": {
   "codemirror_mode": {
    "name": "ipython",
    "version": 3
   },
   "file_extension": ".py",
   "mimetype": "text/x-python",
   "name": "python",
   "nbconvert_exporter": "python",
   "pygments_lexer": "ipython3",
   "version": "3.7.5"
  },
  "pycharm": {
   "stem_cell": {
    "cell_type": "raw",
    "metadata": {
     "collapsed": false
    },
    "source": []
   }
  }
 },
 "nbformat": 4,
 "nbformat_minor": 1
}
