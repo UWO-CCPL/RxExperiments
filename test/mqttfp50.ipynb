{
 "cells": [
  {
   "cell_type": "code",
   "execution_count": 1,
   "metadata": {},
   "outputs": [
    {
     "name": "stdout",
     "output_type": "stream",
     "text": [
      "C:\\Users\\wuyua\\Projects\\PycharmProjects\\RxExperiments\n"
     ]
    }
   ],
   "source": [
    "%cd ..\n",
    "%load_ext autoreload\n",
    "%autoreload 2\n",
    "%matplotlib notebook\n",
    "from matplotlib import pyplot as plt\n",
    "from rx import operators\n",
    "\n",
    "from configs.config import GlobalConfig\n",
    "GlobalConfig.initialize_global_configuration()"
   ]
  },
  {
   "cell_type": "code",
   "execution_count": 2,
   "metadata": {},
   "outputs": [
    {
     "data": {
      "application/vnd.jupyter.widget-view+json": {
       "model_id": "5e0296ab751b4a98b705219636846a24",
       "version_major": 2,
       "version_minor": 0
      },
      "text/plain": [
       "Output()"
      ]
     },
     "metadata": {},
     "output_type": "display_data"
    }
   ],
   "source": [
    "import numpy as np\n",
    "import logging\n",
    "from utils.logging import configure_logger_to_output\n",
    "logging_output = configure_logger_to_output(level=logging.INFO)\n",
    "logging_output"
   ]
  },
  {
   "cell_type": "code",
   "execution_count": 3,
   "metadata": {},
   "outputs": [],
   "source": [
    "from controls.mqtt_fp50 import MQTTFP50Control, FP50Command\n",
    "from utils.mqtt_wrapper import MQTTClientWrapper\n",
    "\n",
    "client = MQTTClientWrapper(client_id=\"fp50_test\", clean_session=False)\n",
    "client.connect(\"192.168.43.1\")\n",
    "client.loop_start()"
   ]
  },
  {
   "cell_type": "code",
   "execution_count": 4,
   "metadata": {},
   "outputs": [],
   "source": [
    "control = MQTTFP50Control(client)"
   ]
  },
  {
   "cell_type": "code",
   "execution_count": 5,
   "metadata": {},
   "outputs": [
    {
     "data": {
      "text/plain": [
       "<rx.disposable.disposable.Disposable at 0x2196adf0580>"
      ]
     },
     "execution_count": 5,
     "metadata": {},
     "output_type": "execute_result"
    }
   ],
   "source": [
    "control.subscribe(lambda x: logging.info(x))"
   ]
  },
  {
   "cell_type": "code",
   "execution_count": 6,
   "metadata": {},
   "outputs": [
    {
     "name": "stderr",
     "output_type": "stream",
     "text": [
      "Exception in thread Thread-6:\n",
      "Traceback (most recent call last):\n",
      "  File \"C:\\Users\\wuyua\\anaconda3\\envs\\RxExperiments\\lib\\threading.py\", line 932, in _bootstrap_inner\n",
      "    self.run()\n",
      "  File \"C:\\Users\\wuyua\\anaconda3\\envs\\RxExperiments\\lib\\threading.py\", line 870, in run\n",
      "    self._target(*self._args, **self._kwargs)\n",
      "  File \"C:\\Users\\wuyua\\anaconda3\\envs\\RxExperiments\\lib\\site-packages\\paho\\mqtt\\client.py\", line 3452, in _thread_main\n",
      "    self.loop_forever(retry_first_connection=True)\n",
      "  File \"C:\\Users\\wuyua\\anaconda3\\envs\\RxExperiments\\lib\\site-packages\\paho\\mqtt\\client.py\", line 1779, in loop_forever\n",
      "    rc = self.loop(timeout, max_packets)\n",
      "  File \"C:\\Users\\wuyua\\anaconda3\\envs\\RxExperiments\\lib\\site-packages\\paho\\mqtt\\client.py\", line 1181, in loop\n",
      "    rc = self.loop_read(max_packets)\n",
      "  File \"C:\\Users\\wuyua\\anaconda3\\envs\\RxExperiments\\lib\\site-packages\\paho\\mqtt\\client.py\", line 1572, in loop_read\n",
      "    rc = self._packet_read()\n",
      "  File \"C:\\Users\\wuyua\\anaconda3\\envs\\RxExperiments\\lib\\site-packages\\paho\\mqtt\\client.py\", line 2310, in _packet_read\n",
      "    rc = self._packet_handle()\n",
      "  File \"C:\\Users\\wuyua\\anaconda3\\envs\\RxExperiments\\lib\\site-packages\\paho\\mqtt\\client.py\", line 2936, in _packet_handle\n",
      "    return self._handle_publish()\n",
      "  File \"C:\\Users\\wuyua\\anaconda3\\envs\\RxExperiments\\lib\\site-packages\\paho\\mqtt\\client.py\", line 3216, in _handle_publish\n",
      "    self._handle_on_message(message)\n",
      "  File \"C:\\Users\\wuyua\\anaconda3\\envs\\RxExperiments\\lib\\site-packages\\paho\\mqtt\\client.py\", line 3429, in _handle_on_message\n",
      "    callback(self, self._userdata, message)\n",
      "  File \"C:\\Users\\wuyua\\Projects\\PycharmProjects\\RxExperiments\\utils\\observable_factory.py\", line 28, in handler\n",
      "    observer.on_next(results)\n",
      "  File \"C:\\Users\\wuyua\\anaconda3\\envs\\RxExperiments\\lib\\site-packages\\rx\\core\\observer\\autodetachobserver.py\", line 26, in on_next\n",
      "    self._on_next(value)\n",
      "  File \"C:\\Users\\wuyua\\anaconda3\\envs\\RxExperiments\\lib\\site-packages\\rx\\core\\observable\\combinelatest.py\", line 57, in on_next\n",
      "    _next(i)\n",
      "  File \"C:\\Users\\wuyua\\anaconda3\\envs\\RxExperiments\\lib\\site-packages\\rx\\core\\observable\\combinelatest.py\", line 37, in _next\n",
      "    observer.on_next(res)\n",
      "  File \"C:\\Users\\wuyua\\anaconda3\\envs\\RxExperiments\\lib\\site-packages\\rx\\core\\observer\\autodetachobserver.py\", line 26, in on_next\n",
      "    self._on_next(value)\n",
      "  File \"C:\\Users\\wuyua\\anaconda3\\envs\\RxExperiments\\lib\\site-packages\\rx\\core\\operators\\map.py\", line 39, in on_next\n",
      "    obv.on_error(err)\n",
      "  File \"C:\\Users\\wuyua\\anaconda3\\envs\\RxExperiments\\lib\\site-packages\\rx\\core\\observer\\autodetachobserver.py\", line 34, in on_error\n",
      "    self._on_error(error)\n",
      "  File \"C:\\Users\\wuyua\\anaconda3\\envs\\RxExperiments\\lib\\site-packages\\rx\\subject\\subject.py\", line 73, in on_error\n",
      "    super().on_error(error)\n",
      "  File \"C:\\Users\\wuyua\\anaconda3\\envs\\RxExperiments\\lib\\site-packages\\rx\\core\\observer\\observer.py\", line 43, in on_error\n",
      "    self._on_error_core(error)\n",
      "  File \"C:\\Users\\wuyua\\anaconda3\\envs\\RxExperiments\\lib\\site-packages\\rx\\subject\\subject.py\", line 82, in _on_error_core\n",
      "    observer.on_error(error)\n",
      "  File \"C:\\Users\\wuyua\\anaconda3\\envs\\RxExperiments\\lib\\site-packages\\rx\\core\\observer\\autodetachobserver.py\", line 34, in on_error\n",
      "    self._on_error(error)\n",
      "  File \"C:\\Users\\wuyua\\anaconda3\\envs\\RxExperiments\\lib\\site-packages\\rx\\core\\observer\\autodetachobserver.py\", line 34, in on_error\n",
      "    self._on_error(error)\n",
      "  File \"C:\\Users\\wuyua\\anaconda3\\envs\\RxExperiments\\lib\\site-packages\\rx\\internal\\basic.py\", line 34, in default_error\n",
      "    raise err\n",
      "  File \"C:\\Users\\wuyua\\anaconda3\\envs\\RxExperiments\\lib\\site-packages\\rx\\core\\operators\\map.py\", line 37, in on_next\n",
      "    result = _mapper(value)\n",
      "  File \"C:\\Users\\wuyua\\Projects\\PycharmProjects\\RxExperiments\\controls\\mqtt_fp50.py\", line 45, in <lambda>\n",
      "    float(x[2][2].payload),\n",
      "ValueError: could not convert string to float: ''\n"
     ]
    }
   ],
   "source": [
    "control.on_command(FP50Command(31))"
   ]
  },
  {
   "cell_type": "code",
   "execution_count": 6,
   "metadata": {},
   "outputs": [
    {
     "data": {
      "application/vnd.jupyter.widget-view+json": {
       "model_id": "2a731cec239c4335ad2d7e9411fed420",
       "version_major": 2,
       "version_minor": 0
      },
      "text/plain": [
       "FigureWidget({\n",
       "    'data': [], 'layout': {'template': '...', 'title': {'text': 'plot'}}\n",
       "})"
      ]
     },
     "metadata": {},
     "output_type": "display_data"
    }
   ],
   "source": [
    "from sink.visualization_sink import PlotlyVisualizationSink\n",
    "from IPython.display import display\n",
    "from plotly import graph_objects as go\n",
    "import pandas as pd\n",
    "sink = PlotlyVisualizationSink()\n",
    "\n",
    "control.pipe(\n",
    "    operators.sample(2),\n",
    "    operators.map(lambda x: pd.DataFrame.from_dict([x.dict()])),\n",
    "    operators.scan(lambda acc, new: acc.append(new), pd.DataFrame()),\n",
    "    operators.map(lambda x: [go.Scatter(y=x.temperature), go.Scatter(y=x.power), go.Scatter(y=x.setpoint)])\n",
    ").subscribe(sink)\n",
    "\n",
    "\n",
    "\n",
    "display(sink.figure)"
   ]
  },
  {
   "cell_type": "code",
   "execution_count": 6,
   "metadata": {},
   "outputs": [],
   "source": [
    "from operators.pid import pid, PIDInput\n",
    "from rx import disposable\n",
    "from source.ds18_source import DS18Source\n",
    "ds18 = DS18Source(client).pipe(operators.share())\n",
    "d = disposable.SerialDisposable()\n"
   ]
  },
  {
   "cell_type": "code",
   "execution_count": 7,
   "metadata": {},
   "outputs": [],
   "source": [
    "P = 0.7\n",
    "I = 0.0025\n",
    "D = -43"
   ]
  },
  {
   "cell_type": "code",
   "execution_count": 8,
   "metadata": {},
   "outputs": [
    {
     "data": {
      "application/vnd.jupyter.widget-view+json": {
       "model_id": "5ac89d46b1f6417a9466fb42c745c6d4",
       "version_major": 2,
       "version_minor": 0
      },
      "text/plain": [
       "FigureWidget({\n",
       "    'data': [], 'layout': {'template': '...', 'title': {'text': 'plot'}}\n",
       "})"
      ]
     },
     "metadata": {},
     "output_type": "display_data"
    }
   ],
   "source": [
    "from sink.visualization_sink import PlotlyVisualizationSink\n",
    "from sink.save_data_sink import SaveDataSink\n",
    "from IPython.display import display\n",
    "from plotly import graph_objects as go\n",
    "import pandas as pd\n",
    "from operators import data_framer\n",
    "import datetime\n",
    "import rx\n",
    "sink = PlotlyVisualizationSink()\n",
    "save_sink = SaveDataSink(\"fp50_sine_20min_freq\", \"data\");\n",
    "src = rx.combine_latest(control, ds18).pipe(\n",
    "    operators.sample(2),\n",
    "    operators.map(lambda x: pd.DataFrame(index=[datetime.datetime.now()], data=[{\"ds18\": x[1], **x[0].dict()}])),\n",
    ")\n",
    "\n",
    "src.pipe(\n",
    "    data_framer.data_framer(),\n",
    "    operators.map(lambda x: [go.Scatter(x=x.index, y=x.temperature), go.Scatter(x=x.index, y=x.ds18), go.Scatter(x=x.index, y=x.setpoint)])\n",
    ").subscribe(sink)\n",
    "\n",
    "src.subscribe(save_sink)\n",
    "\n",
    "\n",
    "\n",
    "display(sink.figure)"
   ]
  },
  {
   "cell_type": "code",
   "execution_count": 9,
   "metadata": {},
   "outputs": [
    {
     "data": {
      "text/plain": [
       "<rx.disposable.disposable.Disposable at 0x2ce4f27c128>"
      ]
     },
     "execution_count": 9,
     "metadata": {},
     "output_type": "execute_result"
    }
   ],
   "source": [
    "rx.just(True).pipe(\n",
    "    operators.map(lambda x: control.on_command(FP50Command(60.0))),\n",
    "    operators.delay(800),\n",
    "    operators.map(lambda x: control.on_command(FP50Command(50.0))),\n",
    "    operators.delay(800),\n",
    "    operators.map(lambda x: control.on_command(FP50Command(40.0))),\n",
    "    operators.delay(800),\n",
    "    operators.map(lambda x: control.on_command(FP50Command(50.0))),\n",
    "    operators.delay(800),\n",
    "    operators.map(lambda x: control.on_command(FP50Command(60.0))),\n",
    ").subscribe()\n"
   ]
  },
  {
   "cell_type": "code",
   "execution_count": 9,
   "metadata": {},
   "outputs": [],
   "source": [
    "#sine\n",
    "d.set_disposable(rx.interval(5).pipe(\n",
    "    operators.map(lambda x: 10*np.sin(5*x*2*np.pi*1/(20*60))+50),\n",
    "    operators.map(lambda x: FP50Command(x))\n",
    ").subscribe(control))"
   ]
  },
  {
   "cell_type": "code",
   "execution_count": 9,
   "metadata": {},
   "outputs": [
    {
     "data": {
      "text/plain": [
       "<rx.disposable.disposable.Disposable at 0x24069382c88>"
      ]
     },
     "execution_count": 9,
     "metadata": {},
     "output_type": "execute_result"
    }
   ],
   "source": [
    "def cl(setpoint):\n",
    "    src = rx.combine_latest(control, ds18).pipe(\n",
    "        operators.sample(2)\n",
    "    )\n",
    "    src.pipe\n",
    "    d.set_disposable(src.pipe(\n",
    "        operators.map(lambda x: PIDInput(setpoint, x[1])),\n",
    "        pid(P, I, D, 2, limit=20, linearization_point=setpoint),\n",
    "        operators.map(lambda x: FP50Command(x)),\n",
    "    ).subscribe(control))\n",
    "    \n",
    "rx.just(True).pipe(\n",
    "    operators.map(lambda x: cl(60)),\n",
    "    operators.delay(800),\n",
    "    operators.map(lambda x: cl(50)),\n",
    "    operators.delay(800),\n",
    "    operators.map(lambda x: cl(40)),\n",
    "    operators.delay(800),\n",
    "    operators.map(lambda x: cl(50)),\n",
    "    operators.delay(800),\n",
    "    operators.map(lambda x: cl(60)),\n",
    ").subscribe()\n"
   ]
  },
  {
   "cell_type": "code",
   "execution_count": 1,
   "metadata": {},
   "outputs": [
    {
     "ename": "NameError",
     "evalue": "name 'control' is not defined",
     "output_type": "error",
     "traceback": [
      "\u001b[1;31m---------------------------------------------------------------------------\u001b[0m",
      "\u001b[1;31mNameError\u001b[0m                                 Traceback (most recent call last)",
      "\u001b[1;32m<ipython-input-1-247f30b99f31>\u001b[0m in \u001b[0;36m<module>\u001b[1;34m\u001b[0m\n\u001b[0;32m      1\u001b[0m \u001b[0msetpoint\u001b[0m \u001b[1;33m=\u001b[0m \u001b[1;36m60\u001b[0m\u001b[1;33m\u001b[0m\u001b[1;33m\u001b[0m\u001b[0m\n\u001b[0;32m      2\u001b[0m \u001b[1;32mimport\u001b[0m \u001b[0mrx\u001b[0m\u001b[1;33m\u001b[0m\u001b[1;33m\u001b[0m\u001b[0m\n\u001b[1;32m----> 3\u001b[1;33m src = rx.combine_latest(control, ds18).pipe(\n\u001b[0m\u001b[0;32m      4\u001b[0m     \u001b[0moperators\u001b[0m\u001b[1;33m.\u001b[0m\u001b[0msample\u001b[0m\u001b[1;33m(\u001b[0m\u001b[1;36m2\u001b[0m\u001b[1;33m)\u001b[0m\u001b[1;33m\u001b[0m\u001b[1;33m\u001b[0m\u001b[0m\n\u001b[0;32m      5\u001b[0m )\n",
      "\u001b[1;31mNameError\u001b[0m: name 'control' is not defined"
     ]
    }
   ],
   "source": [
    "setpoint = 60\n",
    "import rx\n",
    "src = rx.combine_latest(control, ds18).pipe(\n",
    "    operators.sample(2)\n",
    ")\n",
    "src.pipe\n",
    "d.set_disposable(src.pipe(\n",
    "    operators.map(lambda x: PIDInput(setpoint, x[1])),\n",
    "    pid(P, I, D, 2, limit=4, linearization_point=setpoint),\n",
    "    operators.map(lambda x: FP50Command(x)),\n",
    ").subscribe(control))"
   ]
  },
  {
   "cell_type": "code",
   "execution_count": 13,
   "metadata": {},
   "outputs": [],
   "source": [
    "setpoint = 50\n",
    "import rx\n",
    "\n",
    "d.set_disposable(rx.combine_latest(control, ds18).pipe(\n",
    "    operators.sample(2),\n",
    "    operators.map(lambda x: PIDInput(setpoint, x[1])),\n",
    "    pid(P, I, D, 2, limit=4, linearization_point=setpoint),\n",
    "    operators.map(lambda x: FP50Command(x)),\n",
    ").subscribe(control))"
   ]
  },
  {
   "cell_type": "code",
   "execution_count": null,
   "metadata": {},
   "outputs": [],
   "source": []
  }
 ],
 "metadata": {
  "kernelspec": {
   "display_name": "Python 3",
   "language": "python",
   "name": "python3"
  },
  "language_info": {
   "codemirror_mode": {
    "name": "ipython",
    "version": 3
   },
   "file_extension": ".py",
   "mimetype": "text/x-python",
   "name": "python",
   "nbconvert_exporter": "python",
   "pygments_lexer": "ipython3",
   "version": "3.8.5"
  }
 },
 "nbformat": 4,
 "nbformat_minor": 4
}
