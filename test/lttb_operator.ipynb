{
 "cells": [
  {
   "cell_type": "code",
   "execution_count": 1,
   "metadata": {},
   "outputs": [
    {
     "name": "stdout",
     "output_type": "stream",
     "text": [
      "C:\\Users\\wuyua\\PycharmProjects\\RxExperiments\n"
     ]
    }
   ],
   "source": [
    "%cd ..\n",
    "%load_ext autoreload\n",
    "%autoreload 2\n",
    "%matplotlib notebook"
   ]
  },
  {
   "cell_type": "code",
   "execution_count": 2,
   "metadata": {},
   "outputs": [
    {
     "data": {
      "application/vnd.jupyter.widget-view+json": {
       "model_id": "65da8f89fa194fa09b8492b6565e9ddc",
       "version_major": 2,
       "version_minor": 0
      },
      "text/plain": [
       "FigureWidget({\n",
       "    'data': [],\n",
       "    'layout': {'template': '...',\n",
       "               'title': {'text': 'plot'},\n",
       "   …"
      ]
     },
     "metadata": {},
     "output_type": "display_data"
    }
   ],
   "source": [
    "from operators.lttb import lttb_operator\n",
    "from operators.data_framer import data_framer\n",
    "import rx\n",
    "from rx import operators\n",
    "import numpy as np\n",
    "import pandas as pd\n",
    "import datetime\n",
    "from sink.visualization_sink import PlotlyVisualizationSink\n",
    "from plotly import graph_objects as go\n",
    "from configs.config import GlobalConfig\n",
    "import logging\n",
    "GlobalConfig.initialize_global_configuration()\n",
    "\n",
    "sink = PlotlyVisualizationSink()\n",
    "rx.interval(0.1).pipe(\n",
    "    operators.map(\n",
    "        lambda x: pd.DataFrame(index=[datetime.datetime.now()], data={\n",
    "            \"value1\": np.random.random(), \n",
    "            \"value2\": x\n",
    "        })),\n",
    "    data_framer(),\n",
    "    lttb_operator(100),\n",
    "    operators.map(lambda x: [go.Scatter(x=df.index, y=df.values[:, 0], name=df.columns[0], yaxis=f\"y{i+1}\") for i, df in enumerate(x)]),\n",
    "\n",
    ").subscribe(sink)\n",
    "\n",
    "sink.figure.update_layout(yaxis1={\n",
    "    \"title\": \"y1\",\n",
    "    \"side\": \"left\"\n",
    "}, yaxis2={\n",
    "    \"title\": \"y2\",\n",
    "    \"side\": \"right\",\n",
    "    \"overlaying\": \"y\",\n",
    "})\n",
    "sink.figure"
   ]
  },
  {
   "cell_type": "code",
   "execution_count": null,
   "metadata": {},
   "outputs": [],
   "source": []
  }
 ],
 "metadata": {
  "kernelspec": {
   "display_name": "Python 3",
   "language": "python",
   "name": "python3"
  },
  "language_info": {
   "codemirror_mode": {
    "name": "ipython",
    "version": 3
   },
   "file_extension": ".py",
   "mimetype": "text/x-python",
   "name": "python",
   "nbconvert_exporter": "python",
   "pygments_lexer": "ipython3",
   "version": "3.7.3"
  }
 },
 "nbformat": 4,
 "nbformat_minor": 4
}
