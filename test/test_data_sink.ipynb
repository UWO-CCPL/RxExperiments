{
 "cells": [
  {
   "cell_type": "code",
   "execution_count": 1,
   "metadata": {
    "collapsed": true,
    "pycharm": {
     "is_executing": false
    }
   },
   "outputs": [
    {
     "name": "stdout",
     "output_type": "stream",
     "text": [
      "/home/wuyuanyi/PycharmProjects/RxExperiment\n"
     ]
    }
   ],
   "source": [
    "from datetime import datetime\n",
    "from rx import operators\n",
    "import logging\n",
    "from source.mqtt_wrapper import MqttClientWrapper\n",
    "from source.mqtt_source import MQTTSource\n",
    "from sink.save_data_sink import SaveDataSink\n",
    "from utils.logging import configure_logger_to_output\n",
    "from paho.mqtt.client import MQTTMessage\n",
    "import pandas as pd\n",
    "import plotly\n",
    "\n",
    "logger_output = configure_logger_to_output(logging.root)\n",
    "logging.root.setLevel(logging.DEBUG)\n",
    "\n",
    "if 'RUN_ONCE' not in globals():\n",
    "    %cd ..\n",
    "    RUN_ONCE = True"
   ]
  },
  {
   "cell_type": "code",
   "execution_count": 2,
   "metadata": {
    "pycharm": {
     "is_executing": false,
     "name": "#%%\n"
    }
   },
   "outputs": [
    {
     "data": {
      "application/vnd.jupyter.widget-view+json": {
       "model_id": "ae6135be831f44b78b9808cbd11aba0f",
       "version_major": 2,
       "version_minor": 0
      },
      "text/plain": [
       "Output(outputs=({'output_type': 'stream', 'name': 'stdout', 'text': 'storing data every 5.0 seconds'}, {'outpu…"
      ]
     },
     "metadata": {},
     "output_type": "display_data"
    }
   ],
   "source": [
    "client = MqttClientWrapper(\"test_data_sink\")\n",
    "client.connect(\"127.0.0.1\")\n",
    "client.loop_start()\n",
    "source = MQTTSource(client, \"test/#\")\n",
    "sink_autosave = SaveDataSink(\"test_autosave\", None)\n",
    "sink_interval = SaveDataSink(\"test_interval\", 5.0)\n",
    "\n",
    "\n",
    "def mqtt_df_transformer(x: MQTTMessage):\n",
    "    try:\n",
    "        data = float(x.payload)\n",
    "        return pd.DataFrame([{\"time\": datetime.now(), \"data\": data}])\n",
    "    except Exception as ex:\n",
    "        logging.error(\"Failed to parse mqtt message\", exc_info=ex)\n",
    "    \n",
    "# source.pipe(\n",
    "#     operators.map(mqtt_df_transformer)\n",
    "# ).subscribe(sink_autosave)\n",
    "source.pipe(\n",
    "    operators.map(mqtt_df_transformer)\n",
    ").subscribe(sink_interval)\n",
    "logger_output"
   ]
  },
  {
   "cell_type": "code",
   "execution_count": 2,
   "outputs": [
    {
     "name": "stderr",
     "text": [
      "UsageError: Line magic function `%file` not found (But cell magic `%%file` exists, did you mean that instead?).\n"
     ],
     "output_type": "stream"
    }
   ],
   "source": [
    "%file"
   ],
   "metadata": {
    "collapsed": false,
    "pycharm": {
     "name": "#%%\n",
     "is_executing": false
    }
   }
  },
  {
   "cell_type": "code",
   "execution_count": 5,
   "outputs": [
    {
     "data": {
      "text/plain": "{'PATH': '/home/wuyuanyi/PycharmProjects/RxExperiment/venv/bin:/home/wuyuanyi/esp/xtensa-esp32-elf/bin:/home/wuyuanyi/.local/bin:/usr/local/sbin:/usr/local/bin:/usr/sbin:/usr/bin:/sbin:/bin:/usr/games:/usr/local/games:/snap/bin:/home/wuyuanyi/.dotnet/tools',\n 'XAUTHORITY': '/run/user/1000/gdm/Xauthority',\n 'INVOCATION_ID': '7e53ed8f40cf467981daf36301dc1d72',\n 'XMODIFIERS': '@im=fcitx',\n 'XDG_DATA_DIRS': '/usr/share/ubuntu:/usr/local/share/:/usr/share/:/var/lib/snapd/desktop',\n 'GDMSESSION': 'ubuntu',\n 'MANDATORY_PATH': '/usr/share/gconf/ubuntu.mandatory.path',\n 'GTK_IM_MODULE': 'fcitx',\n 'DBUS_SESSION_BUS_ADDRESS': 'unix:path=/run/user/1000/bus',\n 'DEFAULTS_PATH': '/usr/share/gconf/ubuntu.default.path',\n 'PS1': '(venv) ',\n 'XDG_CURRENT_DESKTOP': 'ubuntu:GNOME',\n 'JOURNAL_STREAM': '9:56372',\n 'SSH_AGENT_PID': '2625',\n 'QT4_IM_MODULE': 'fcitx',\n 'SESSION_MANAGER': 'local/wuyuanyi-workstation:@/tmp/.ICE-unix/2693,unix/wuyuanyi-workstation:/tmp/.ICE-unix/2693',\n 'USERNAME': 'wuyuanyi',\n 'LOGNAME': 'wuyuanyi',\n 'PWD': '/home/wuyuanyi/PycharmProjects/RxExperiment',\n 'MANAGERPID': '2466',\n 'IM_CONFIG_PHASE': '1',\n 'LANGUAGE': 'en_CA:en',\n 'GJS_DEBUG_TOPICS': 'JS ERROR;JS LOG',\n 'PYTHONPATH': '/home/wuyuanyi/PycharmProjects/RxExperiment',\n 'SHELL': '/bin/bash',\n 'GIO_LAUNCHED_DESKTOP_FILE': '/home/wuyuanyi/.local/share/applications/jetbrains-pycharm.desktop',\n 'GENICAM_GENTL64_PATH': '/opt/mvIMPACT_Acquire/lib/x86_64',\n 'OLDPWD': '/home/wuyuanyi/pycharm-2019.2/bin',\n 'GNOME_DESKTOP_SESSION_ID': 'this-is-deprecated',\n 'GTK_MODULES': 'gail:atk-bridge',\n 'VIRTUAL_ENV': '/home/wuyuanyi/PycharmProjects/RxExperiment/venv',\n 'CLUTTER_IM_MODULE': 'fcitx',\n 'MVIMPACT_ACQUIRE_DATA_DIR': '/opt/mvIMPACT_Acquire/data',\n 'XDG_SESSION_DESKTOP': 'ubuntu',\n 'SHLVL': '0',\n 'QT_IM_MODULE': 'fcitx',\n 'MVIMPACT_ACQUIRE_DIR': '/opt/mvIMPACT_Acquire',\n 'XDG_CONFIG_DIRS': '/etc/xdg/xdg-ubuntu:/etc/xdg',\n 'LANG': 'en_CA.UTF-8',\n 'XDG_SESSION_TYPE': 'x11',\n 'DISPLAY': ':0',\n 'XDG_SESSION_CLASS': 'user',\n '_': '/usr/bin/dbus-update-activation-environment',\n 'GENICAM_ROOT_V3_1': '/opt/mvIMPACT_Acquire/runtime',\n 'IDF_PATH': '/home/wuyuanyi/esp/esp-idf',\n 'GPG_AGENT_INFO': '/run/user/1000/gnupg/S.gpg-agent:0:1',\n 'DESKTOP_SESSION': 'ubuntu',\n 'GENICAM_LOG_CONFIG_V3_1': '/opt/mvIMPACT_Acquire/runtime/log/config-unix/DefaultLogging.properties',\n 'USER': 'wuyuanyi',\n 'XDG_MENU_PREFIX': 'gnome-',\n 'GIO_LAUNCHED_DESKTOP_FILE_PID': '2585',\n 'WINDOWPATH': '2',\n 'GJS_DEBUG_OUTPUT': 'stderr',\n 'SSH_AUTH_SOCK': '/run/user/1000/keyring/ssh',\n 'QT_QPA_PLATFORMTHEME': 'qt5ct',\n 'GNOME_SHELL_SESSION_MODE': 'ubuntu',\n 'GENICAM_ROOT': '/opt/mvIMPACT_Acquire/runtime',\n 'XDG_RUNTIME_DIR': '/run/user/1000',\n 'GENICAM_CACHE_V3_1': '/opt/mvIMPACT_Acquire/runtime/cache/v3_1',\n 'HOME': '/home/wuyuanyi',\n 'KERNEL_LAUNCH_TIMEOUT': '40',\n 'JPY_PARENT_PID': '3886',\n 'TERM': 'xterm-color',\n 'CLICOLOR': '1',\n 'PAGER': 'cat',\n 'GIT_PAGER': 'cat',\n 'MPLBACKEND': 'module://ipykernel.pylab.backend_inline'}"
     },
     "metadata": {},
     "output_type": "execute_result",
     "execution_count": 5
    }
   ],
   "source": [
    "%env"
   ],
   "metadata": {
    "collapsed": false,
    "pycharm": {
     "name": "#%%\n",
     "is_executing": false
    }
   }
  },
  {
   "cell_type": "code",
   "execution_count": null,
   "outputs": [],
   "source": [
    "\n"
   ],
   "metadata": {
    "collapsed": false,
    "pycharm": {
     "name": "#%%\n"
    }
   }
  }
 ],
 "metadata": {
  "kernelspec": {
   "display_name": "Python 3",
   "language": "python",
   "name": "python3"
  },
  "language_info": {
   "codemirror_mode": {
    "name": "ipython",
    "version": 3
   },
   "file_extension": ".py",
   "mimetype": "text/x-python",
   "name": "python",
   "nbconvert_exporter": "python",
   "pygments_lexer": "ipython3",
   "version": "3.7.5"
  },
  "pycharm": {
   "stem_cell": {
    "cell_type": "raw",
    "source": [],
    "metadata": {
     "collapsed": false
    }
   }
  }
 },
 "nbformat": 4,
 "nbformat_minor": 1
}