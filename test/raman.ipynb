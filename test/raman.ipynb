{
 "cells": [
  {
   "cell_type": "code",
   "execution_count": 1,
   "metadata": {},
   "outputs": [
    {
     "name": "stdout",
     "output_type": "stream",
     "text": [
      "C:\\Users\\wuyua\\PycharmProjects\\RxExperiments\n"
     ]
    }
   ],
   "source": [
    "%cd ..\n",
    "%load_ext autoreload\n",
    "%autoreload 2\n",
    "%matplotlib notebook\n",
    "from matplotlib import pyplot as plt\n",
    "from rx import operators\n",
    "\n",
    "from configs.config import GlobalConfig\n",
    "GlobalConfig.initialize_global_configuration()"
   ]
  },
  {
   "cell_type": "code",
   "execution_count": 2,
   "metadata": {},
   "outputs": [
    {
     "data": {
      "application/vnd.jupyter.widget-view+json": {
       "model_id": "6b7648c56f73424c9e139390eca76a30",
       "version_major": 2,
       "version_minor": 0
      },
      "text/plain": [
       "Output()"
      ]
     },
     "metadata": {},
     "output_type": "display_data"
    }
   ],
   "source": [
    "import logging\n",
    "from utils.logging import configure_logger_to_output\n",
    "logging_output = configure_logger_to_output(level=logging.INFO)\n",
    "logging_output"
   ]
  },
  {
   "cell_type": "code",
   "execution_count": 3,
   "metadata": {},
   "outputs": [],
   "source": [
    "from utils.mqtt_wrapper import MQTTClientWrapper\n",
    "\n",
    "client = MQTTClientWrapper(\"raman_test\", clean_session=False)\n",
    "client.connect(\"workstation.local\")\n",
    "client.loop_start()"
   ]
  },
  {
   "cell_type": "code",
   "execution_count": 4,
   "metadata": {},
   "outputs": [],
   "source": [
    "from source.raman_source import RamanSource\n",
    "\n",
    "source = RamanSource(client).pipe(operators.share())"
   ]
  },
  {
   "cell_type": "code",
   "execution_count": 5,
   "metadata": {},
   "outputs": [
    {
     "data": {
      "application/vnd.jupyter.widget-view+json": {
       "model_id": "c635fdb6a15c4f2289ed7ab45f1fc55b",
       "version_major": 2,
       "version_minor": 0
      },
      "text/plain": [
       "FigureWidget({\n",
       "    'data': [], 'layout': {'template': '...', 'title': {'text': 'Raman'}, 'xaxis': {'autorange'…"
      ]
     },
     "metadata": {},
     "output_type": "display_data"
    }
   ],
   "source": [
    "from sink.visualization_sink import PlotlyVisualizationSink\n",
    "from sink.save_data_sink import SaveDataSink\n",
    "from plotly import graph_objects as go\n",
    "import pandas as pd\n",
    "import datetime\n",
    "\n",
    "visualization_sink = PlotlyVisualizationSink(name=\"Raman\")\n",
    "save_sink = SaveDataSink(\"raman\", \"raman\")\n",
    "\n",
    "source.pipe(\n",
    "    operators.map(lambda x: [go.Scatter(x=x[\"wave_number\"], y=x[\"count\"], )])\n",
    ").subscribe(visualization_sink)\n",
    "\n",
    "source.pipe(\n",
    "    operators.map(\n",
    "        lambda x: pd.DataFrame(\n",
    "            [{\n",
    "                \"time\": datetime.datetime.now(), \n",
    "                **dict(zip(x[\"wave_number\"], x[\"count\"]))\n",
    "            }]\n",
    "        )\n",
    "    ),\n",
    ").subscribe(save_sink)\n",
    "\n",
    "visualization_sink.figure.update_xaxes(autorange=\"reversed\")\n",
    "\n",
    "display(visualization_sink.figure)"
   ]
  },
  {
   "cell_type": "code",
   "execution_count": null,
   "metadata": {},
   "outputs": [],
   "source": []
  }
 ],
 "metadata": {
  "kernelspec": {
   "display_name": "Python 3",
   "language": "python",
   "name": "python3"
  },
  "language_info": {
   "codemirror_mode": {
    "name": "ipython",
    "version": 3
   },
   "file_extension": ".py",
   "mimetype": "text/x-python",
   "name": "python",
   "nbconvert_exporter": "python",
   "pygments_lexer": "ipython3",
   "version": "3.7.3"
  }
 },
 "nbformat": 4,
 "nbformat_minor": 4
}
