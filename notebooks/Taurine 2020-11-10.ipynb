{
 "cells": [
  {
   "cell_type": "code",
   "execution_count": 1,
   "metadata": {},
   "outputs": [
    {
     "name": "stdout",
     "output_type": "stream",
     "text": [
      "C:\\Users\\wuyua\\Projects\\PycharmProjects\\RxExperiments\n"
     ]
    }
   ],
   "source": [
    "%cd .."
   ]
  },
  {
   "cell_type": "code",
   "execution_count": 2,
   "metadata": {
    "scrolled": true
   },
   "outputs": [],
   "source": [
    "import numpy as np\n",
    "import pandas as pd\n",
    "import rx\n",
    "from rx import operators\n",
    "from rx import scheduler\n",
    "from rx import subject\n",
    "\n",
    "import logging\n",
    "import datetime\n",
    "\n",
    "from configs.config import GlobalConfig\n",
    "GlobalConfig.initialize_global_configuration(\"configs/defaults.json\")\n",
    "\n",
    "from utils.logging import configure_logger_to_output\n",
    "logging_output = configure_logger_to_output(level=logging.INFO)"
   ]
  },
  {
   "cell_type": "markdown",
   "metadata": {},
   "source": [
    "# Description\n",
    "Collect some image and Raman, FBRM information for 35 degc saturation\n",
    "Solubility = 0.143003 g/g\n",
    "water = 50 g\n",
    "need taurine = 7.150 g"
   ]
  },
  {
   "cell_type": "markdown",
   "metadata": {},
   "source": [
    "## Shared initialization"
   ]
  },
  {
   "cell_type": "code",
   "execution_count": 3,
   "metadata": {},
   "outputs": [],
   "source": [
    "from utils.mqtt_wrapper import MQTTClientWrapper\n",
    "from sources.harvesters_source import HarvestersSource\n",
    "from sinks.save_image_sink import SaveImageSink\n",
    "from sinks.save_data_sink import SaveDataSink\n",
    "from sinks.visualization_sink import JupyterImageSink, PlotlyVisualizationSink\n",
    "from datamodel.image import Image\n",
    "from operators import data_framer\n",
    "from plotly import graph_objects as go\n",
    "from controls.camera_controller import CameraControl, CameraControlCommand\n",
    "from controls.fp50 import FP50Command, FP50Control\n",
    "from controls.mqtt_pump import MQTTPump\n",
    "from sources.raman_source import RamanSource\n",
    "from sources.mqtt_ds18 import MQTTDS18Source\n",
    "from utils.auto_disposable import AutoDisposable\n",
    "\n",
    "import ipywidgets as widgets\n"
   ]
  },
  {
   "cell_type": "code",
   "execution_count": 4,
   "metadata": {},
   "outputs": [],
   "source": [
    "# MQTT connection\n",
    "client = MQTTClientWrapper(\"experiment_taurine\")\n",
    "client.connect(\"192.168.43.1\")\n",
    "client.loop_start()"
   ]
  },
  {
   "cell_type": "markdown",
   "metadata": {},
   "source": [
    "### Image analysis"
   ]
  },
  {
   "cell_type": "code",
   "execution_count": 5,
   "metadata": {},
   "outputs": [],
   "source": [
    "# Image acquisition\n",
    "image_acquisiton_enabled = True\n",
    "\n",
    "image_source = HarvestersSource().pipe(operators.filter(lambda x: image_acquisiton_enabled), operators.share())\n",
    "image_save_sink = SaveImageSink()\n",
    "camera_control = CameraControl()\n",
    "current_exposure = 10\n",
    "\n",
    "# save image logic\n",
    "image_save_subscription = image_source.subscribe(image_save_sink)\n",
    "\n",
    "# camera controller logic\n",
    "image_mean_brightness_source = image_source.pipe(\n",
    "    operators.map(lambda x: x.image.mean())\n",
    ")\n",
    "\n",
    "# enable fan and trigger at the beginning\n",
    "camera_control.on_command(CameraControlCommand().set_exposure(current_exposure).set_trigger(True))\n",
    "\n",
    "# dataframed source\n",
    "image_brightness_branch = image_mean_brightness_source.pipe(\n",
    "    operators.sample(2),\n",
    "    operators.map(lambda x: pd.DataFrame(data=[{\"value\": x}], index=[datetime.datetime.now()]))\n",
    ")"
   ]
  },
  {
   "cell_type": "code",
   "execution_count": 6,
   "metadata": {},
   "outputs": [],
   "source": [
    "# Front end panels\n",
    "# camera visuallization logic\n",
    "camera_image_sink = JupyterImageSink(name=\"Camera\")\n",
    "camera_visuallization_subscription = image_source.pipe(operators.sample(1)).subscribe(camera_image_sink)\n",
    "\n",
    "# camera brightness visuallization logic\n",
    "mean_brightness_sink = PlotlyVisualizationSink(name=\"Mean brightness\")\n",
    "mean_brightness_visuallization_subscription = image_brightness_branch.pipe(\n",
    "    data_framer.data_framer(),\n",
    "    operators.map(lambda x: [go.Scatter(x=x.index, y=x.value)])\n",
    ").subscribe(mean_brightness_sink)"
   ]
  },
  {
   "cell_type": "markdown",
   "metadata": {},
   "source": [
    "# DS18"
   ]
  },
  {
   "cell_type": "code",
   "execution_count": 7,
   "metadata": {},
   "outputs": [],
   "source": [
    "ds18 = MQTTDS18Source(client)\n",
    "ds18_save = SaveDataSink(\"ds18\", \"value\", auto_timestamp = True)\n",
    "ds18_save_subs = AutoDisposable(ds18.pipe(\n",
    "    operators.map(lambda x: pd.DataFrame(data=[{\"value\": x[\"value\"]}])),\n",
    ").subscribe(ds18_save))\n",
    "ds18_plot = PlotlyVisualizationSink(name=\"Temperature\")\n",
    "ds18_plot_subs = AutoDisposable(ds18.pipe(\n",
    "    operators.map(lambda x: pd.DataFrame(data=[{\"value\": x[\"value\"]}])),\n",
    "    data_framer.data_framer(window_length = 300, auto_timestamp = True),\n",
    "    operators.map(lambda x: [go.Scatter(x=x.timestamp, y=x.value, name=\"Temperature\")]),\n",
    ").subscribe(ds18_plot))"
   ]
  },
  {
   "cell_type": "markdown",
   "metadata": {},
   "source": [
    "## Water bath and temperature control"
   ]
  },
  {
   "cell_type": "code",
   "execution_count": 8,
   "metadata": {},
   "outputs": [],
   "source": [
    "fp50 = FP50Control(client)\n",
    "fp50_df = fp50.pipe(\n",
    "    operators.map(lambda x: pd.DataFrame(data=[{\"power\": x.power, \"setpoint\": x.setpoint, \"temperature\": x.temperature}]))\n",
    ")\n",
    "fp50_save = SaveDataSink(\"fp50\", \"data\", auto_timestamp = True)\n",
    "\n",
    "fp50_save_subs = AutoDisposable(fp50_df.subscribe(fp50_save))\n",
    "fp50_power_plot = PlotlyVisualizationSink(name=\"Power\")\n",
    "fp50_power_plot_subs = AutoDisposable(fp50_df.pipe(\n",
    "    data_framer.data_framer(window_length = 300, auto_timestamp = True),\n",
    "    operators.map(lambda x: [go.Scatter(x=x.timestamp, y=x.power, name=\"Power\")]),\n",
    ").subscribe(fp50_power_plot))\n",
    "\n",
    "fp50_temperature_plot = PlotlyVisualizationSink(name=\"Temperature\")\n",
    "fp50_temperature_plot_subs = AutoDisposable(fp50_df.pipe(\n",
    "    data_framer.data_framer(window_length = 300, auto_timestamp = True),\n",
    "    operators.map(lambda x: [go.Scatter(x=x.timestamp, y=x.temperature, name=\"Temperature\")]),\n",
    ").subscribe(fp50_temperature_plot))"
   ]
  },
  {
   "cell_type": "markdown",
   "metadata": {},
   "source": [
    "# Pump control"
   ]
  },
  {
   "cell_type": "code",
   "execution_count": 9,
   "metadata": {},
   "outputs": [],
   "source": [
    "# back end\n",
    "pump_control = MQTTPump(client, \"pump\", \"6712580\")"
   ]
  },
  {
   "cell_type": "markdown",
   "metadata": {},
   "source": [
    "# Raman"
   ]
  },
  {
   "cell_type": "code",
   "execution_count": 10,
   "metadata": {},
   "outputs": [],
   "source": [
    "# backend configuration\n",
    "raman_source = RamanSource(client, \"raman\").pipe(operators.share())\n",
    "\n",
    "raman_dataframe_source = raman_source.pipe(\n",
    "    operators.map(\n",
    "        lambda x: pd.DataFrame(\n",
    "            index=[datetime.datetime.now()], \n",
    "            data=[dict(zip(x[\"wave_number\"], x[\"data\"]))],\n",
    "        )\n",
    "    )\n",
    ")\n",
    "\n",
    "# save file logic\n",
    "raman_save_sink = SaveDataSink(\"raman\", \"data\")\n",
    "raman_save_subscription = raman_dataframe_source.subscribe(raman_save_sink)"
   ]
  },
  {
   "cell_type": "code",
   "execution_count": 11,
   "metadata": {
    "scrolled": true
   },
   "outputs": [
    {
     "data": {
      "text/plain": [
       "''"
      ]
     },
     "execution_count": 11,
     "metadata": {},
     "output_type": "execute_result"
    }
   ],
   "source": [
    "# front end configuration\n",
    "raman_visuallization = PlotlyVisualizationSink(name=\"Raman\")\n",
    "raman_visuallization_subscription = raman_source.pipe(\n",
    "    operators.map(lambda x: [go.Scatter(x=x[\"wave_number\"], y=x[\"data\"], )])\n",
    ").subscribe(raman_visuallization)\n",
    "\n",
    "raman_visuallization.figure.update_layout(xaxis={\"autorange\": \"reversed\", \"title\":\"$Wave number (cm^{-1})$\"}, yaxis={\"title\": \"Count\"})\n",
    "\n",
    ";"
   ]
  },
  {
   "cell_type": "markdown",
   "metadata": {},
   "source": [
    "# Concentrations"
   ]
  },
  {
   "cell_type": "code",
   "execution_count": 12,
   "metadata": {},
   "outputs": [],
   "source": [
    "from properties.taurine import TaurineProperty\n",
    "taurine_property = TaurineProperty(r\"C:\\Users\\wuyua\\OneDrive - The University of Western Ontario\\Research\\Taurine\\Raman Calibration\\data\\raman_pca_linear_model.pkl\")\n",
    "def func(x):\n",
    "    d = list(x[0][\"data\"])\n",
    "    d.append(x[1][\"value\"])\n",
    "    input_data = np.array(d).reshape((1, -1))\n",
    "    y = taurine_property.raman_concentration(input_data)\n",
    "    solids = y[0][0]\n",
    "    solute = y[0][1]\n",
    "    solubility = taurine_property.solubility(x[1][\"value\"])\n",
    "    return {\"solids\": solids, \"solute\":solute, \"solubility\":solubility}\n",
    "        \n",
    "conc_src = raman_source.pipe(\n",
    "    operators.with_latest_from(ds18),\n",
    "    operators.map(func),\n",
    "    operators.share()\n",
    ")\n",
    "\n",
    "# front end configuration\n",
    "\n",
    "conc_plot = PlotlyVisualizationSink(name=\"Concentration\")\n",
    "conc_save = SaveDataSink(\"conc\", \"value\", auto_timestamp = True)\n",
    "conc_save_subs = AutoDisposable(conc_src.pipe(\n",
    "    operators.map(lambda x: pd.DataFrame(data=[x])),\n",
    ").subscribe(conc_save))\n",
    "conc_plot_subs = AutoDisposable(conc_src.pipe(\n",
    "    operators.map(lambda x: pd.DataFrame(data=[x])),\n",
    "    data_framer.data_framer(window_length = 300, auto_timestamp = True),\n",
    "    operators.map(lambda x: [go.Scatter(x=x.timestamp, y=x.solute, name=\"solute\"), go.Scatter(x=x.timestamp, y=x.solubility, name=\"solubility\"), go.Scatter(x=x.timestamp, y=x.solids, name=\"solids\")]),\n",
    ").subscribe(conc_plot))"
   ]
  },
  {
   "cell_type": "markdown",
   "metadata": {},
   "source": [
    "# FBRM"
   ]
  },
  {
   "cell_type": "code",
   "execution_count": 13,
   "metadata": {},
   "outputs": [],
   "source": [
    "from sources.fbrm_source import FBRMSource\n",
    "\n",
    "# backend configuration\n",
    "fbrm_source = FBRMSource(client, \"fbrm\").pipe(operators.share())\n",
    "\n",
    "fbrm_dataframe_source = fbrm_source.pipe(\n",
    "    operators.map(\n",
    "        lambda x: pd.DataFrame(\n",
    "            index=[datetime.datetime.now()], \n",
    "            data=[dict(zip(x[\"sizes\"], x[\"counts\"]))],\n",
    "        )\n",
    "    )\n",
    ")\n",
    "\n",
    "# save file logic\n",
    "fbrm_save_sink = SaveDataSink(\"fbrm\", \"data\")\n",
    "fbrm_save_subscription = fbrm_dataframe_source.subscribe(fbrm_save_sink)"
   ]
  },
  {
   "cell_type": "code",
   "execution_count": 14,
   "metadata": {},
   "outputs": [
    {
     "data": {
      "text/plain": [
       "''"
      ]
     },
     "execution_count": 14,
     "metadata": {},
     "output_type": "execute_result"
    }
   ],
   "source": [
    "# front end configuration\n",
    "fbrm_visuallization = PlotlyVisualizationSink(name=\"FBRM\")\n",
    "fbrm_visuallization_subscription = fbrm_source.pipe(\n",
    "    operators.map(lambda x: [go.Scatter(x=x[\"sizes\"], y=x[\"counts\"], )])\n",
    ").subscribe(fbrm_visuallization)\n",
    "\n",
    "fbrm_visuallization.figure.update_layout(xaxis={\"type\":\"log\", \"title\":\"$Size (\\mu m)$\"}, yaxis={\"title\": \"Count\"})\n",
    "\n",
    "fbrm_count_visuallization = PlotlyVisualizationSink(name=\"FBRM statistics\")\n",
    "fbrm_count_visuallization_subscription = fbrm_source.pipe(\n",
    "    operators.map(lambda x: pd.DataFrame(index=[datetime.datetime.now()], data=[{\n",
    "        \"total\": np.sum(x[\"counts\"])\n",
    "    }])),\n",
    "    data_framer.data_framer(),\n",
    "    operators.map(lambda x: [go.Scatter(x=x.index, y=x.total, )])\n",
    ").subscribe(fbrm_count_visuallization)\n",
    ";"
   ]
  },
  {
   "cell_type": "markdown",
   "metadata": {},
   "source": [
    "## Organize widgets"
   ]
  },
  {
   "cell_type": "code",
   "execution_count": 15,
   "metadata": {
    "scrolled": false
   },
   "outputs": [
    {
     "data": {
      "application/vnd.jupyter.widget-view+json": {
       "model_id": "6ab75c3a560249bd84591be10f730789",
       "version_major": 2,
       "version_minor": 0
      },
      "text/plain": [
       "VBox(children=(Box(children=(FigureWidget({\n",
       "    'data': [{'type': 'scatter',\n",
       "              'uid': 'be40f328-31…"
      ]
     },
     "metadata": {},
     "output_type": "display_data"
    }
   ],
   "source": [
    "from ipywidgets import Layout, Box, VBox\n",
    "# logging panel\n",
    "# logging_output.layout = Layout(border=\"solid\", width=\"100%\", height=\"200px\", overflow=\"scroll\")\n",
    "\n",
    "# image panel\n",
    "image_panel_layout = Layout(display=\"flex\", flex_flow=\"row\", border=\"solid\", width=\"100%\")\n",
    "mean_brightness_figure = Box(children=[mean_brightness_sink.fig], layout=Layout(flex=\"1 1 0%\", width=\"auto\"))\n",
    "camera_image_sink.figure.layout = Layout(flex=\"1 1 0%\", width=\"50%\")\n",
    "image_panel = Box(children=[mean_brightness_sink.figure, camera_image_sink.figure], layout=image_panel_layout)\n",
    "\n",
    "# temperature panel\n",
    "temperature_panel = VBox(children=[fp50_power_plot.figure, fp50_temperature_plot.figure, ds18_plot.figure], layout=\n",
    "    Layout(border=\"solid\", width=\"100%\", display=\"flex\", flex_flow=\"column\")\n",
    ")\n",
    "\n",
    "# FBRM panel\n",
    "fbrm_panel = Box(children=[fbrm_visuallization.figure], layout=\n",
    "    Layout(border=\"solid\", width=\"100%\", display=\"flex\", flex_flow=\"column\")\n",
    ")\n",
    "\n",
    "\n",
    "# Raman Panel\n",
    "raman_panel = Box(children=[raman_visuallization.figure], layout=\n",
    "    Layout(border=\"solid\", width=\"100%\", display=\"flex\", flex_flow=\"column\")\n",
    ")\n",
    "\n",
    "# Concentration panel\n",
    "conc_panel = Box(children=[conc_plot.figure], layout=\n",
    "    Layout(border=\"solid\", width=\"100%\", display=\"flex\", flex_flow=\"column\")\n",
    ")\n",
    "\n",
    "\n",
    "# control panel\n",
    "event_logger_text = widgets.Text(\n",
    "    description='Event annotation:',\n",
    "    layout=Layout(width=\"100%\"),\n",
    ")\n",
    "event_logger_text.on_submit(lambda x: logging.getLogger(\"annotation\").info(x.value))\n",
    "\n",
    "\n",
    "control_panel = Box(children=[event_logger_text], layout=Layout(border=\"solid\", width=\"100%\"))\n",
    "\n",
    "# wrap up\n",
    "panel = widgets.VBox([image_panel, temperature_panel, fbrm_panel, raman_panel, conc_panel, control_panel])\n",
    "\n",
    "display(panel)"
   ]
  },
  {
   "cell_type": "code",
   "execution_count": 19,
   "metadata": {},
   "outputs": [],
   "source": [
    "image_acquisiton_enabled = False"
   ]
  },
  {
   "cell_type": "code",
   "execution_count": 17,
   "metadata": {},
   "outputs": [],
   "source": [
    "camera_control.on_command(CameraControlCommand().set_exposure(11.0))"
   ]
  },
  {
   "cell_type": "code",
   "execution_count": 22,
   "metadata": {},
   "outputs": [],
   "source": [
    "delta_t = 5\n",
    "start =20\n",
    "cooling_rate = -4/3600 # d/s\n",
    "end = 40\n",
    "def enable_fcn(x):\n",
    "    if x < 35 and not image_acquisiton_enabled:\n",
    "        image_acquisiton_enabled = True\n",
    "    return x\n",
    "subs = rx.interval(delta_t).pipe(\n",
    "    operators.map(lambda x: start - x*delta_t * cooling_rate),\n",
    "    operators.take_while(lambda x: x < end),\n",
    "    operators.map(lambda x: FP50Command(x))\n",
    ").subscribe(fp50)"
   ]
  },
  {
   "cell_type": "code",
   "execution_count": 23,
   "metadata": {},
   "outputs": [],
   "source": [
    "subs.dispose()"
   ]
  },
  {
   "cell_type": "code",
   "execution_count": 20,
   "metadata": {},
   "outputs": [],
   "source": [
    "fp50.on_command(FP50Command(20.))"
   ]
  },
  {
   "cell_type": "code",
   "execution_count": 21,
   "metadata": {},
   "outputs": [],
   "source": [
    "pump_control.on_command(0)"
   ]
  },
  {
   "cell_type": "code",
   "execution_count": null,
   "metadata": {},
   "outputs": [],
   "source": []
  },
  {
   "cell_type": "markdown",
   "metadata": {},
   "source": [
    "Event record:\n",
    "\n",
    "* 10:34 Clean Raman and FBRM.\n",
    "* 10:39 Cooling to 31 degc.\n",
    "* 10:42 Clean Raman\n",
    "* 10:52 delete all images, start cooling, 0.1 deg/min, RPM = 400\n",
    "* 11:12 FBRM nucleation\n",
    "* 11:13 Image sees nucleation\n",
    "\n",
    "Strange, many large crystals before massive nucleation. Why?\n",
    "* 11:19 clean raman\n",
    "* 11:30 clean raman\n",
    "* 11:40 Raman is strange, change RPM to 200 to reduce vortex\n",
    "* 12:09 Reached 24 degc. Stay there and see if the supersaturation will be consumed\n",
    "* 12:21 to 19"
   ]
  },
  {
   "cell_type": "markdown",
   "metadata": {},
   "source": [
    "30-20 with 2% seed load (20-45um)\n",
    "30-20 solids out = 1.889 g. Therefore, add seed = 0.03778\n",
    "* 12:33 Heat to 40 to dissolve everything\n",
    "* 12:41 Clean FBRM probe\n",
    "* 12:47 Cool to 30.5\n",
    "* 12:58 Cool to 30, then add solids (prevent dissolution)\n",
    "* 1:03 add seeds, wait 10min\n"
   ]
  },
  {
   "cell_type": "markdown",
   "metadata": {},
   "source": [
    "### Make it 35 according to gao, \n",
    "since already add 0.03778 seed and 6.0304 g solute, now add extra 1.14907g to make it saturated at 35.\n",
    "\n",
    "Amount of seed 2% final product\n",
    "\n",
    "p.solubility(35)*50 - p.solubility(25)*50 == 2.2050314032909553. \n",
    "\n",
    "Therefore, add 0.044g\n",
    "\n",
    "* 1:15 Add 1.1489g\n",
    "* 1:21 FBRM reading ready cool to 35\n",
    "* 1:29 Linear (0.4 d/m) cool to 33  <- too fast!!\n",
    "* 1:34 add 0.0442g seeds @ internal 34degc\n",
    "* 1:37 leave seeds for 5 min\n",
    "* 1:44 T = 34 to break agglomeration a little bit, hold steady for 5 min  <- next time do stay at 34, \n",
    "* 1:52 0.1d/min to 25. \n",
    "* 2:07 Seems the aspect ratio is very high! (even before cooling start) To verify this, since add seeds only introduce 0.1 degc solubility change, just do another cooling without seed\n"
   ]
  },
  {
   "cell_type": "markdown",
   "metadata": {},
   "source": [
    "## Try no seed as said before\n",
    "* 3:43 heat to 40\n",
    "* 3:59 cool to 36"
   ]
  },
  {
   "cell_type": "code",
   "execution_count": null,
   "metadata": {},
   "outputs": [],
   "source": []
  }
 ],
 "metadata": {
  "kernelspec": {
   "display_name": "Python 3",
   "language": "python",
   "name": "python3"
  },
  "language_info": {
   "codemirror_mode": {
    "name": "ipython",
    "version": 3
   },
   "file_extension": ".py",
   "mimetype": "text/x-python",
   "name": "python",
   "nbconvert_exporter": "python",
   "pygments_lexer": "ipython3",
   "version": "3.8.5"
  }
 },
 "nbformat": 4,
 "nbformat_minor": 4
}
