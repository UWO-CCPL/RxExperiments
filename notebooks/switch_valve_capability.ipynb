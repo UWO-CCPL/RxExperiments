{
 "cells": [
  {
   "cell_type": "markdown",
   "metadata": {},
   "source": [
    "This notebook tests the cooling rate and heating rate by using the switch valve. \n",
    "The hot water bath = 75 degc\n",
    "The cold water bath = 35 degc\n",
    "300 rpm\n",
    "50mL water"
   ]
  },
  {
   "cell_type": "code",
   "execution_count": 1,
   "metadata": {},
   "outputs": [
    {
     "name": "stdout",
     "output_type": "stream",
     "text": [
      "C:\\Users\\wuyua\\Projects\\PycharmProjects\\RxExperiments\n"
     ]
    }
   ],
   "source": [
    "%cd .."
   ]
  },
  {
   "cell_type": "code",
   "execution_count": 2,
   "metadata": {},
   "outputs": [],
   "source": [
    "import numpy as np\n",
    "import pandas as pd\n",
    "import rx\n",
    "from rx import operators\n",
    "from rx import scheduler\n",
    "from rx import subject\n",
    "from rx import disposable\n",
    "\n",
    "import logging\n",
    "import datetime\n",
    "from plotly import graph_objects as go\n",
    "from plotly.subplots import make_subplots\n",
    "from utils.mqtt_wrapper import MQTTClientWrapper\n",
    "\n",
    "from controls.mqtt_switch_valve import MQTTSwitchValve\n",
    "from controls.fp50 import FP50Control, FP50Message, FP50Command\n",
    "from sources.mqtt_ds18 import MQTTDS18Source\n",
    "from sinks.save_data_sink import SaveDataSink\n",
    "from sinks.visualization_sink import PlotlyVisualizationSink\n",
    "from operators import data_framer\n",
    "\n",
    "from configs.config import GlobalConfig\n",
    "GlobalConfig.initialize_global_configuration(\"configs/defaults.json\")\n",
    "\n",
    "from utils.auto_disposable import AutoDisposable\n",
    "from utils.logging import configure_logger_to_output\n",
    "logging_output = configure_logger_to_output(level=logging.INFO)"
   ]
  },
  {
   "cell_type": "code",
   "execution_count": 3,
   "metadata": {},
   "outputs": [],
   "source": [
    "# MQTT connection\n",
    "client = MQTTClientWrapper(\"experiment_switch_valve\")\n",
    "client.connect(\"192.168.43.1\")\n",
    "client.loop_start()"
   ]
  },
  {
   "cell_type": "code",
   "execution_count": 4,
   "metadata": {},
   "outputs": [],
   "source": [
    "ds18 = MQTTDS18Source(client)\n",
    "ds18_save = SaveDataSink(\"ds18\", \"value\", auto_timestamp = True)\n",
    "ds18_save_subs = AutoDisposable(ds18.pipe(\n",
    "    operators.map(lambda x: pd.DataFrame(data=[{\"value\": x[\"value\"]}])),\n",
    ").subscribe(ds18_save))\n",
    "ds18_plot = PlotlyVisualizationSink(name=\"Temperature\")\n",
    "ds18_plot_subs = AutoDisposable(ds18.pipe(\n",
    "    operators.map(lambda x: pd.DataFrame(data=[{\"value\": x[\"value\"]}])),\n",
    "    data_framer.data_framer(window_length = 300, auto_timestamp = True),\n",
    "    operators.map(lambda x: [go.Scatter(x=x.timestamp, y=x.value, name=\"Temperature\")]),\n",
    ").subscribe(ds18_plot))"
   ]
  },
  {
   "cell_type": "code",
   "execution_count": 5,
   "metadata": {},
   "outputs": [
    {
     "data": {
      "application/vnd.jupyter.widget-view+json": {
       "model_id": "966c3b0897444395aa0fe89f0a05829c",
       "version_major": 2,
       "version_minor": 0
      },
      "text/plain": [
       "FigureWidget({\n",
       "    'data': [], 'layout': {'template': '...', 'title': {'text': 'Temperature'}}\n",
       "})"
      ]
     },
     "metadata": {},
     "output_type": "display_data"
    }
   ],
   "source": [
    "ds18_plot.figure"
   ]
  },
  {
   "cell_type": "code",
   "execution_count": 6,
   "metadata": {},
   "outputs": [],
   "source": [
    "valve = MQTTSwitchValve(client)\n",
    "valve_save = SaveDataSink(\"valve\", \"state\", auto_timestamp = True)\n",
    "valve_save_subs = AutoDisposable(valve.pipe(\n",
    "    operators.map(lambda x: pd.DataFrame(data=[{\"state\": x}])),\n",
    ").subscribe(valve_save))\n",
    "valve_plot = PlotlyVisualizationSink(name=\"Valve state\")\n",
    "valve_plot_subs = AutoDisposable(valve.pipe(\n",
    "    operators.map(lambda x: pd.DataFrame(data=[{\"state\": x}])),\n",
    "    data_framer.data_framer(window_length = 300, auto_timestamp = True),\n",
    "    operators.map(lambda x: [go.Scatter(x=x.timestamp, y=x.state, name=\"Valve State\")]),\n",
    ").subscribe(valve_plot))"
   ]
  },
  {
   "cell_type": "code",
   "execution_count": 7,
   "metadata": {},
   "outputs": [
    {
     "data": {
      "application/vnd.jupyter.widget-view+json": {
       "model_id": "d59d1f04402f4104a58318572f918775",
       "version_major": 2,
       "version_minor": 0
      },
      "text/plain": [
       "FigureWidget({\n",
       "    'data': [{'name': 'Valve State',\n",
       "              'type': 'scatter',\n",
       "              'uid': '34f…"
      ]
     },
     "metadata": {},
     "output_type": "display_data"
    }
   ],
   "source": [
    "valve_plot.figure"
   ]
  },
  {
   "cell_type": "code",
   "execution_count": 8,
   "metadata": {},
   "outputs": [],
   "source": [
    "fp50 = FP50Control(client)\n",
    "fp50_df = fp50.pipe(\n",
    "    operators.map(lambda x: pd.DataFrame(data=[{\"power\": x.power, \"setpoint\": x.setpoint, \"temperature\": x.temperature}]))\n",
    ")\n",
    "fp50_save = SaveDataSink(\"fp50\", \"data\", auto_timestamp = True)\n",
    "\n",
    "fp50_save_subs = AutoDisposable(fp50_df.subscribe(fp50_save))\n",
    "fp50_power_plot = PlotlyVisualizationSink(name=\"Power\")\n",
    "fp50_power_plot_subs = AutoDisposable(fp50_df.pipe(\n",
    "    data_framer.data_framer(window_length = 300, auto_timestamp = True),\n",
    "    operators.map(lambda x: [go.Scatter(x=x.timestamp, y=x.power, name=\"Power\")]),\n",
    ").subscribe(fp50_power_plot))\n",
    "\n",
    "fp50_temperature_plot = PlotlyVisualizationSink(name=\"Temperature\")\n",
    "fp50_temperature_plot_subs = AutoDisposable(fp50_df.pipe(\n",
    "    data_framer.data_framer(window_length = 300, auto_timestamp = True),\n",
    "    operators.map(lambda x: [go.Scatter(x=x.timestamp, y=x.temperature, name=\"Temperature\")]),\n",
    ").subscribe(fp50_temperature_plot))\n",
    "\n",
    "fp50.on_command(FP50Command(35)) # This is required to make the plots update!"
   ]
  },
  {
   "cell_type": "code",
   "execution_count": 9,
   "metadata": {},
   "outputs": [
    {
     "data": {
      "application/vnd.jupyter.widget-view+json": {
       "model_id": "673657462c404778af1a5048f3689d62",
       "version_major": 2,
       "version_minor": 0
      },
      "text/plain": [
       "FigureWidget({\n",
       "    'data': [], 'layout': {'template': '...', 'title': {'text': 'Power'}}\n",
       "})"
      ]
     },
     "metadata": {},
     "output_type": "display_data"
    }
   ],
   "source": [
    "fp50_power_plot.figure"
   ]
  },
  {
   "cell_type": "code",
   "execution_count": 10,
   "metadata": {},
   "outputs": [
    {
     "data": {
      "application/vnd.jupyter.widget-view+json": {
       "model_id": "016e4a7778d245fe83e1700086623ece",
       "version_major": 2,
       "version_minor": 0
      },
      "text/plain": [
       "FigureWidget({\n",
       "    'data': [], 'layout': {'template': '...', 'title': {'text': 'Temperature'}}\n",
       "})"
      ]
     },
     "metadata": {},
     "output_type": "display_data"
    }
   ],
   "source": [
    "fp50_temperature_plot.figure"
   ]
  },
  {
   "cell_type": "code",
   "execution_count": 11,
   "metadata": {},
   "outputs": [
    {
     "data": {
      "application/vnd.jupyter.widget-view+json": {
       "model_id": "e1ca1aebf9c24a62ae26e23b19535737",
       "version_major": 2,
       "version_minor": 0
      },
      "text/plain": [
       "Output(outputs=({'output_type': 'stream', 'name': 'stdout', 'text': '2020-10-16 04:33:55 \\x1b[32mINFO  \\x1b[0m…"
      ]
     },
     "metadata": {},
     "output_type": "display_data"
    }
   ],
   "source": [
    "logging_output"
   ]
  },
  {
   "cell_type": "code",
   "execution_count": 12,
   "metadata": {},
   "outputs": [],
   "source": [
    "src = rx.interval(30)\n",
    "valve_ctrl_1_subs = AutoDisposable(src.pipe(operators.map(lambda x: \"1\")).subscribe(valve))\n",
    "valve_ctrl_2_subs = AutoDisposable(src.pipe(operators.delay(15), operators.map(lambda x: \"0\")).subscribe(valve))"
   ]
  },
  {
   "cell_type": "code",
   "execution_count": 13,
   "metadata": {},
   "outputs": [
    {
     "data": {
      "text/plain": [
       "<rx.disposable.disposable.Disposable at 0x16f7203d1f0>"
      ]
     },
     "execution_count": 13,
     "metadata": {},
     "output_type": "execute_result"
    }
   ],
   "source": [
    "src.subscribe(print)"
   ]
  },
  {
   "cell_type": "code",
   "execution_count": 21,
   "metadata": {},
   "outputs": [],
   "source": [
    "a = rx.interval(1.0).subscribe(logging.info)"
   ]
  },
  {
   "cell_type": "code",
   "execution_count": 22,
   "metadata": {},
   "outputs": [],
   "source": [
    "a.dispose()"
   ]
  },
  {
   "cell_type": "code",
   "execution_count": null,
   "metadata": {},
   "outputs": [],
   "source": []
  }
 ],
 "metadata": {
  "kernelspec": {
   "display_name": "Python 3",
   "language": "python",
   "name": "python3"
  },
  "language_info": {
   "codemirror_mode": {
    "name": "ipython",
    "version": 3
   },
   "file_extension": ".py",
   "mimetype": "text/x-python",
   "name": "python",
   "nbconvert_exporter": "python",
   "pygments_lexer": "ipython3",
   "version": "3.8.5"
  }
 },
 "nbformat": 4,
 "nbformat_minor": 4
}
