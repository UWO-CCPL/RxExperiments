{
 "cells": [
  {
   "cell_type": "code",
   "execution_count": 1,
   "metadata": {},
   "outputs": [
    {
     "name": "stdout",
     "output_type": "stream",
     "text": [
      "C:\\Users\\wuyua\\Projects\\PycharmProjects\\RxExperiments\n"
     ]
    }
   ],
   "source": [
    "%cd .."
   ]
  },
  {
   "cell_type": "code",
   "execution_count": 2,
   "metadata": {
    "scrolled": true
   },
   "outputs": [],
   "source": [
    "import numpy as np\n",
    "import pandas as pd\n",
    "import rx\n",
    "from rx import operators\n",
    "from rx import scheduler\n",
    "from rx import subject\n",
    "\n",
    "import logging\n",
    "import datetime\n",
    "\n",
    "from configs.config import GlobalConfig\n",
    "GlobalConfig.initialize_global_configuration(\"configs/defaults.json\")\n",
    "\n",
    "from utils.logging import configure_logger_to_output\n",
    "logging_output = configure_logger_to_output(level=logging.INFO)"
   ]
  },
  {
   "cell_type": "markdown",
   "metadata": {},
   "source": [
    "# Description\n",
    "Collect some image and Raman, FBRM information for 35 degc saturation\n",
    "Solubility = 0.143003 g/g\n",
    "water = 50 g\n",
    "need taurine = 7.150 g"
   ]
  },
  {
   "cell_type": "markdown",
   "metadata": {},
   "source": [
    "## Shared initialization"
   ]
  },
  {
   "cell_type": "code",
   "execution_count": 3,
   "metadata": {},
   "outputs": [],
   "source": [
    "from utils.mqtt_wrapper import MQTTClientWrapper\n",
    "from sources.harvesters_source import HarvestersSource\n",
    "from sinks.save_image_sink import SaveImageSink\n",
    "from sinks.save_data_sink import SaveDataSink\n",
    "from sinks.visualization_sink import JupyterImageSink, PlotlyVisualizationSink\n",
    "from datamodel.image import Image\n",
    "from operators import data_framer\n",
    "from plotly import graph_objects as go\n",
    "from controls.camera_controller import CameraControl, CameraControlCommand\n",
    "from controls.fp50 import FP50Command, FP50Control\n",
    "from controls.mqtt_pump import MQTTPump\n",
    "from sources.raman_source import RamanSource\n",
    "from sources.mqtt_ds18 import MQTTDS18Source\n",
    "from utils.auto_disposable import AutoDisposable\n",
    "\n",
    "import ipywidgets as widgets\n"
   ]
  },
  {
   "cell_type": "code",
   "execution_count": 4,
   "metadata": {},
   "outputs": [],
   "source": [
    "# MQTT connection\n",
    "client = MQTTClientWrapper(\"experiment_taurine\")\n",
    "client.connect(\"192.168.43.1\")\n",
    "client.loop_start()"
   ]
  },
  {
   "cell_type": "markdown",
   "metadata": {},
   "source": [
    "### Image analysis"
   ]
  },
  {
   "cell_type": "code",
   "execution_count": 5,
   "metadata": {},
   "outputs": [],
   "source": [
    "# Image acquisition\n",
    "image_acquisiton_enabled = False\n",
    "\n",
    "image_source = HarvestersSource().pipe(operators.filter(lambda x: image_acquisiton_enabled), operators.share())\n",
    "image_save_sink = SaveImageSink()\n",
    "camera_control = CameraControl()\n",
    "current_exposure = 11\n",
    "\n",
    "# save image logic\n",
    "image_save_subscription = image_source.subscribe(image_save_sink)\n",
    "\n",
    "# camera controller logic\n",
    "image_mean_brightness_source = image_source.pipe(\n",
    "    operators.map(lambda x: x.image.mean())\n",
    ")\n",
    "\n",
    "# enable fan and trigger at the beginning\n",
    "camera_control.on_command(CameraControlCommand().set_exposure(current_exposure).set_trigger(True))\n",
    "\n",
    "# dataframed source\n",
    "image_brightness_branch = image_mean_brightness_source.pipe(\n",
    "    operators.sample(2),\n",
    "    operators.map(lambda x: pd.DataFrame(data=[{\"value\": x}], index=[datetime.datetime.now()]))\n",
    ")"
   ]
  },
  {
   "cell_type": "code",
   "execution_count": 6,
   "metadata": {},
   "outputs": [],
   "source": [
    "# Front end panels\n",
    "# camera visuallization logic\n",
    "camera_image_sink = JupyterImageSink(name=\"Camera\")\n",
    "camera_visuallization_subscription = image_source.pipe(operators.sample(1)).subscribe(camera_image_sink)\n",
    "\n",
    "# camera brightness visuallization logic\n",
    "mean_brightness_sink = PlotlyVisualizationSink(name=\"Mean brightness\")\n",
    "mean_brightness_visuallization_subscription = image_brightness_branch.pipe(\n",
    "    data_framer.data_framer(),\n",
    "    operators.map(lambda x: [go.Scatter(x=x.index, y=x.value)])\n",
    ").subscribe(mean_brightness_sink)"
   ]
  },
  {
   "cell_type": "markdown",
   "metadata": {},
   "source": [
    "# DS18"
   ]
  },
  {
   "cell_type": "code",
   "execution_count": 7,
   "metadata": {},
   "outputs": [],
   "source": [
    "ds18 = MQTTDS18Source(client)\n",
    "ds18_save = SaveDataSink(\"ds18\", \"value\", auto_timestamp = True)\n",
    "ds18_save_subs = AutoDisposable(ds18.pipe(\n",
    "    operators.map(lambda x: pd.DataFrame(data=[{\"value\": x[\"value\"]}])),\n",
    ").subscribe(ds18_save))\n",
    "ds18_plot = PlotlyVisualizationSink(name=\"Temperature\")\n",
    "ds18_plot_subs = AutoDisposable(ds18.pipe(\n",
    "    operators.map(lambda x: pd.DataFrame(data=[{\"value\": x[\"value\"]}])),\n",
    "    data_framer.data_framer(window_length = 300, auto_timestamp = True),\n",
    "    operators.map(lambda x: [go.Scatter(x=x.timestamp, y=x.value, name=\"Temperature\")]),\n",
    ").subscribe(ds18_plot))"
   ]
  },
  {
   "cell_type": "markdown",
   "metadata": {},
   "source": [
    "## Water bath and temperature control"
   ]
  },
  {
   "cell_type": "code",
   "execution_count": 8,
   "metadata": {},
   "outputs": [],
   "source": [
    "fp50 = FP50Control(client)\n",
    "fp50_df = fp50.pipe(\n",
    "    operators.map(lambda x: pd.DataFrame(data=[{\"power\": x.power, \"setpoint\": x.setpoint, \"temperature\": x.temperature}]))\n",
    ")\n",
    "fp50_save = SaveDataSink(\"fp50\", \"data\", auto_timestamp = True)\n",
    "\n",
    "fp50_save_subs = AutoDisposable(fp50_df.subscribe(fp50_save))\n",
    "fp50_power_plot = PlotlyVisualizationSink(name=\"Power\")\n",
    "fp50_power_plot_subs = AutoDisposable(fp50_df.pipe(\n",
    "    data_framer.data_framer(window_length = 300, auto_timestamp = True),\n",
    "    operators.map(lambda x: [go.Scatter(x=x.timestamp, y=x.power, name=\"Power\")]),\n",
    ").subscribe(fp50_power_plot))\n",
    "\n",
    "fp50_temperature_plot = PlotlyVisualizationSink(name=\"Temperature\")\n",
    "fp50_temperature_plot_subs = AutoDisposable(fp50_df.pipe(\n",
    "    data_framer.data_framer(window_length = 300, auto_timestamp = True),\n",
    "    operators.map(lambda x: [go.Scatter(x=x.timestamp, y=x.temperature, name=\"Temperature\")]),\n",
    ").subscribe(fp50_temperature_plot))"
   ]
  },
  {
   "cell_type": "markdown",
   "metadata": {},
   "source": [
    "# Pump control"
   ]
  },
  {
   "cell_type": "code",
   "execution_count": 9,
   "metadata": {},
   "outputs": [],
   "source": [
    "# back end\n",
    "pump_control = MQTTPump(client, \"pump\", \"6712580\")"
   ]
  },
  {
   "cell_type": "markdown",
   "metadata": {},
   "source": [
    "# Raman"
   ]
  },
  {
   "cell_type": "code",
   "execution_count": 10,
   "metadata": {},
   "outputs": [],
   "source": [
    "# backend configuration\n",
    "raman_source = RamanSource(client, \"raman\").pipe(operators.share())\n",
    "\n",
    "raman_dataframe_source = raman_source.pipe(\n",
    "    operators.map(\n",
    "        lambda x: pd.DataFrame(\n",
    "            index=[datetime.datetime.now()], \n",
    "            data=[dict(zip(x[\"wave_number\"], x[\"data\"]))],\n",
    "        )\n",
    "    )\n",
    ")\n",
    "\n",
    "# save file logic\n",
    "raman_save_sink = SaveDataSink(\"raman\", \"data\")\n",
    "raman_save_subscription = raman_dataframe_source.subscribe(raman_save_sink)"
   ]
  },
  {
   "cell_type": "code",
   "execution_count": 11,
   "metadata": {
    "scrolled": true
   },
   "outputs": [
    {
     "data": {
      "text/plain": [
       "''"
      ]
     },
     "execution_count": 11,
     "metadata": {},
     "output_type": "execute_result"
    }
   ],
   "source": [
    "# front end configuration\n",
    "raman_visuallization = PlotlyVisualizationSink(name=\"Raman\")\n",
    "raman_visuallization_subscription = raman_source.pipe(\n",
    "    operators.map(lambda x: [go.Scatter(x=x[\"wave_number\"], y=x[\"data\"], )])\n",
    ").subscribe(raman_visuallization)\n",
    "\n",
    "raman_visuallization.figure.update_layout(xaxis={\"autorange\": \"reversed\", \"title\":\"$Wave number (cm^{-1})$\"}, yaxis={\"title\": \"Count\"})\n",
    "\n",
    ";"
   ]
  },
  {
   "cell_type": "markdown",
   "metadata": {},
   "source": [
    "# Concentrations"
   ]
  },
  {
   "cell_type": "code",
   "execution_count": 12,
   "metadata": {},
   "outputs": [],
   "source": [
    "from properties.taurine import TaurineProperty\n",
    "taurine_property = TaurineProperty(r\"C:\\Users\\wuyua\\OneDrive - The University of Western Ontario\\Research\\Taurine\\Raman Calibration\\data\\raman_pca_linear_model.pkl\")\n",
    "def func(x):\n",
    "    d = list(x[0][\"data\"])\n",
    "    d.append(x[1][\"value\"])\n",
    "    input_data = np.array(d).reshape((1, -1))\n",
    "    y = taurine_property.raman_concentration(input_data)\n",
    "    solids = y[0][0]\n",
    "    solute = y[0][1]\n",
    "    solubility = taurine_property.solubility(x[1][\"value\"])\n",
    "    return {\"solids\": solids, \"solute\":solute, \"solubility\":solubility}\n",
    "        \n",
    "conc_src = raman_source.pipe(\n",
    "    operators.with_latest_from(ds18),\n",
    "    operators.map(func),\n",
    "    operators.share()\n",
    ")\n",
    "\n",
    "# front end configuration\n",
    "\n",
    "conc_plot = PlotlyVisualizationSink(name=\"Concentration\")\n",
    "conc_save = SaveDataSink(\"conc\", \"value\", auto_timestamp = True)\n",
    "conc_save_subs = AutoDisposable(conc_src.pipe(\n",
    "    operators.map(lambda x: pd.DataFrame(data=[x])),\n",
    ").subscribe(conc_save))\n",
    "conc_plot_subs = AutoDisposable(conc_src.pipe(\n",
    "    operators.map(lambda x: pd.DataFrame(data=[x])),\n",
    "    data_framer.data_framer(window_length = 300, auto_timestamp = True),\n",
    "    operators.map(lambda x: [go.Scatter(x=x.timestamp, y=x.solute, name=\"solute\"), go.Scatter(x=x.timestamp, y=x.solubility, name=\"solubility\"), go.Scatter(x=x.timestamp, y=x.solids, name=\"solids\")]),\n",
    ").subscribe(conc_plot))"
   ]
  },
  {
   "cell_type": "markdown",
   "metadata": {},
   "source": [
    "# FBRM"
   ]
  },
  {
   "cell_type": "code",
   "execution_count": 13,
   "metadata": {},
   "outputs": [],
   "source": [
    "from sources.fbrm_source import FBRMSource\n",
    "\n",
    "# backend configuration\n",
    "fbrm_source = FBRMSource(client, \"fbrm\").pipe(operators.share())\n",
    "\n",
    "fbrm_dataframe_source = fbrm_source.pipe(\n",
    "    operators.map(\n",
    "        lambda x: pd.DataFrame(\n",
    "            index=[datetime.datetime.now()], \n",
    "            data=[dict(zip(x[\"sizes\"], x[\"counts\"]))],\n",
    "        )\n",
    "    )\n",
    ")\n",
    "\n",
    "# save file logic\n",
    "fbrm_save_sink = SaveDataSink(\"fbrm\", \"data\")\n",
    "fbrm_save_subscription = fbrm_dataframe_source.subscribe(fbrm_save_sink)"
   ]
  },
  {
   "cell_type": "code",
   "execution_count": 14,
   "metadata": {},
   "outputs": [
    {
     "data": {
      "text/plain": [
       "''"
      ]
     },
     "execution_count": 14,
     "metadata": {},
     "output_type": "execute_result"
    }
   ],
   "source": [
    "# front end configuration\n",
    "fbrm_visuallization = PlotlyVisualizationSink(name=\"FBRM\")\n",
    "fbrm_visuallization_subscription = fbrm_source.pipe(\n",
    "    operators.map(lambda x: [go.Scatter(x=x[\"sizes\"], y=x[\"counts\"], )])\n",
    ").subscribe(fbrm_visuallization)\n",
    "\n",
    "fbrm_visuallization.figure.update_layout(xaxis={\"type\":\"log\", \"title\":\"$Size (\\mu m)$\"}, yaxis={\"title\": \"Count\"})\n",
    "\n",
    "fbrm_count_visuallization = PlotlyVisualizationSink(name=\"FBRM statistics\")\n",
    "fbrm_count_visuallization_subscription = fbrm_source.pipe(\n",
    "    operators.map(lambda x: pd.DataFrame(index=[datetime.datetime.now()], data=[{\n",
    "        \"total\": np.sum(x[\"counts\"])\n",
    "    }])),\n",
    "    data_framer.data_framer(),\n",
    "    operators.map(lambda x: [go.Scatter(x=x.index, y=x.total, )])\n",
    ").subscribe(fbrm_count_visuallization)\n",
    ";"
   ]
  },
  {
   "cell_type": "markdown",
   "metadata": {},
   "source": [
    "## Organize widgets"
   ]
  },
  {
   "cell_type": "code",
   "execution_count": 15,
   "metadata": {
    "scrolled": false
   },
   "outputs": [
    {
     "data": {
      "application/vnd.jupyter.widget-view+json": {
       "model_id": "d1b53a89495f47e9904bf7870ee2becd",
       "version_major": 2,
       "version_minor": 0
      },
      "text/plain": [
       "VBox(children=(Box(children=(FigureWidget({\n",
       "    'data': [], 'layout': {'template': '...', 'title': {'text': 'M…"
      ]
     },
     "metadata": {},
     "output_type": "display_data"
    }
   ],
   "source": [
    "from ipywidgets import Layout, Box, VBox\n",
    "# logging panel\n",
    "# logging_output.layout = Layout(border=\"solid\", width=\"100%\", height=\"200px\", overflow=\"scroll\")\n",
    "\n",
    "# image panel\n",
    "image_panel_layout = Layout(display=\"flex\", flex_flow=\"row\", border=\"solid\", width=\"100%\")\n",
    "mean_brightness_figure = Box(children=[mean_brightness_sink.fig], layout=Layout(flex=\"1 1 0%\", width=\"auto\"))\n",
    "camera_image_sink.figure.layout = Layout(flex=\"1 1 0%\", width=\"50%\")\n",
    "image_panel = Box(children=[mean_brightness_sink.figure, camera_image_sink.figure], layout=image_panel_layout)\n",
    "\n",
    "# temperature panel\n",
    "temperature_panel = VBox(children=[fp50_power_plot.figure, fp50_temperature_plot.figure, ds18_plot.figure], layout=\n",
    "    Layout(border=\"solid\", width=\"100%\", display=\"flex\", flex_flow=\"column\")\n",
    ")\n",
    "\n",
    "# FBRM panel\n",
    "fbrm_panel = Box(children=[fbrm_visuallization.figure], layout=\n",
    "    Layout(border=\"solid\", width=\"100%\", display=\"flex\", flex_flow=\"column\")\n",
    ")\n",
    "\n",
    "\n",
    "# Raman Panel\n",
    "raman_panel = Box(children=[raman_visuallization.figure], layout=\n",
    "    Layout(border=\"solid\", width=\"100%\", display=\"flex\", flex_flow=\"column\")\n",
    ")\n",
    "\n",
    "# Concentration panel\n",
    "conc_panel = Box(children=[conc_plot.figure], layout=\n",
    "    Layout(border=\"solid\", width=\"100%\", display=\"flex\", flex_flow=\"column\")\n",
    ")\n",
    "\n",
    "\n",
    "# control panel\n",
    "event_logger_text = widgets.Text(\n",
    "    description='Event annotation:',\n",
    "    layout=Layout(width=\"100%\"),\n",
    ")\n",
    "event_logger_text.on_submit(lambda x: logging.getLogger(\"annotation\").info(x.value))\n",
    "\n",
    "\n",
    "control_panel = Box(children=[event_logger_text], layout=Layout(border=\"solid\", width=\"100%\"))\n",
    "\n",
    "# wrap up\n",
    "panel = widgets.VBox([image_panel, temperature_panel, fbrm_panel, raman_panel, conc_panel, control_panel])\n",
    "\n",
    "display(panel)"
   ]
  },
  {
   "cell_type": "code",
   "execution_count": 24,
   "metadata": {},
   "outputs": [],
   "source": [
    "image_acquisiton_enabled = True"
   ]
  },
  {
   "cell_type": "code",
   "execution_count": 25,
   "metadata": {},
   "outputs": [],
   "source": [
    "camera_control.on_command(CameraControlCommand().set_exposure(11.4))"
   ]
  },
  {
   "cell_type": "code",
   "execution_count": 28,
   "metadata": {},
   "outputs": [],
   "source": [
    "delta_t = 5\n",
    "start =34\n",
    "rate = 0.1/60 # d/s\n",
    "end = 25\n",
    "\n",
    "rate_sign = 1. if (end-start) > 0 else -1.\n",
    "subs = rx.interval(delta_t).pipe(\n",
    "    operators.map(lambda x: start + x * delta_t * rate * rate_sign),\n",
    "    operators.take_while(lambda x: x <= end if rate_sign > 0 else x >= end),\n",
    "    operators.map(lambda x: FP50Command(x)),\n",
    ").subscribe(lambda x: fp50.on_command(x))"
   ]
  },
  {
   "cell_type": "code",
   "execution_count": 26,
   "metadata": {},
   "outputs": [],
   "source": [
    "subs.dispose()"
   ]
  },
  {
   "cell_type": "code",
   "execution_count": 20,
   "metadata": {},
   "outputs": [],
   "source": [
    "fp50.on_command(FP50Command(35.5))"
   ]
  },
  {
   "cell_type": "code",
   "execution_count": 29,
   "metadata": {},
   "outputs": [],
   "source": [
    "pump_control.on_command(800)"
   ]
  },
  {
   "cell_type": "markdown",
   "metadata": {},
   "source": [
    "On experiment start, set to 25 degc and start recording everything except image. Then, heat to 35 with slow rate (1hr 10 degc should be ok) This data will be used to calibrate Raman.\n",
    "* Nov 14 0:14 start 25-35 10d/h\n",
    "* 1:17 start 35-40 15d/h\n",
    "* 1:40 Raman calibration phase done, start pump at 800, start pump cooling, start imaging breifly to see if image are good.\n",
    "* 1:47 Cool to 35.5\n",
    "* 1:58 Start cooling to 34.0 , 0.2 d/m\n",
    "* 2:07 imaging ON\n",
    "* 2:16 Stuck at 34.09. Clear useless images.\n",
    "* 2:18 0.0998 g seeds add through FBRM port. Hold 10 minute\n",
    "* 2:21 light to 11.4\n",
    "* 2:28 start cooling to 25, 0.1 d/m\n",
    "* 4:07 cooling done. store data. "
   ]
  },
  {
   "cell_type": "markdown",
   "metadata": {},
   "source": [
    "# Exp 1 dissolving\n",
    "* 4:11 heating from 25 to 40, 0.4d/m\n",
    "* 4:47 Stop imaging\n",
    "* 4:53 Cool to 36"
   ]
  },
  {
   "cell_type": "markdown",
   "metadata": {},
   "source": [
    "# Exp 2\n",
    "\n",
    "* 5:22 heat to 40 first to dissolve\n",
    "* 5:27 add 0.4205 to dissolve\n",
    "* 5:30 dissolved completely confirmed by imaging\n",
    "* 5:31 cool to 37.5\n",
    "* 5:37 cool to 34 with 0.35 d/m\n",
    "* 5:50 Failed due to nucleation, retrying, heat to 45\n",
    "* 6:03 Cool to 34.0 directly.\n",
    "* Failed again at 34.5. Heat to 40"
   ]
  },
  {
   "cell_type": "markdown",
   "metadata": {},
   "source": [
    "# Exp 3\n",
    "* 6:22 add water 2.6846g\n",
    "* 6:29 cool to 36\n",
    "* 6:35 add water 1.8850 now saturated at 34.5, cool to 35\n",
    "* 6:39 0.35d/m to 34\n",
    "* 6:48 add 0.0998g seed at 34.09 degc\n",
    "* 6:58 cool to 25 0.1d/m\n",
    "* 8:31 cooling done"
   ]
  },
  {
   "cell_type": "markdown",
   "metadata": {},
   "source": [
    "# Exp 4\n",
    "* 8:40 add 0.0376g taurine\n",
    "* 8:46 cool to 35.5\n",
    "* 8:53 0.35 d/m to 34\n",
    "* 9:06 add seeds 0.0473g\n",
    "* 9:16 start cooling 0.1d/m to 25\n",
    "* 10:57 finished"
   ]
  },
  {
   "cell_type": "code",
   "execution_count": null,
   "metadata": {},
   "outputs": [],
   "source": []
  }
 ],
 "metadata": {
  "kernelspec": {
   "display_name": "Python 3",
   "language": "python",
   "name": "python3"
  },
  "language_info": {
   "codemirror_mode": {
    "name": "ipython",
    "version": 3
   },
   "file_extension": ".py",
   "mimetype": "text/x-python",
   "name": "python",
   "nbconvert_exporter": "python",
   "pygments_lexer": "ipython3",
   "version": "3.8.5"
  }
 },
 "nbformat": 4,
 "nbformat_minor": 4
}
