{
 "cells": [
  {
   "cell_type": "code",
   "execution_count": 1,
   "metadata": {},
   "outputs": [
    {
     "name": "stdout",
     "output_type": "stream",
     "text": [
      "C:\\Users\\wuyua\\Projects\\PycharmProjects\\RxExperiments\n"
     ]
    }
   ],
   "source": [
    "%cd .."
   ]
  },
  {
   "cell_type": "code",
   "execution_count": 2,
   "metadata": {
    "scrolled": true
   },
   "outputs": [],
   "source": [
    "import numpy as np\n",
    "import pandas as pd\n",
    "import rx\n",
    "from rx import operators\n",
    "from rx import scheduler\n",
    "from rx import subject\n",
    "\n",
    "import logging\n",
    "import datetime\n",
    "\n",
    "from configs.config import GlobalConfig\n",
    "GlobalConfig.initialize_global_configuration(\"configs/taurine.json\")\n",
    "\n",
    "from utils.logging import configure_logger_to_output\n",
    "logging_output = configure_logger_to_output(level=logging.INFO)"
   ]
  },
  {
   "cell_type": "markdown",
   "metadata": {},
   "source": [
    "# Description\n",
    "Collect some image and Raman, FBRM information for 35 degc saturation\n",
    "Solubility = 0.143003 g/g\n",
    "water = 50 g\n",
    "need taurine = 7.150 g"
   ]
  },
  {
   "cell_type": "markdown",
   "metadata": {},
   "source": [
    "## Shared initialization"
   ]
  },
  {
   "cell_type": "code",
   "execution_count": 3,
   "metadata": {},
   "outputs": [],
   "source": [
    "from utils.mqtt_wrapper import MQTTClientWrapper\n",
    "from source.harvesters_source import HarvestersSource\n",
    "from sink.save_image_sink import SaveImageSink\n",
    "from sink.save_data_sink import SaveDataSink\n",
    "from sink.visualization_sink import JupyterImageSink, PlotlyVisualizationSink\n",
    "from datamodel.image import Image\n",
    "from operators import data_framer\n",
    "from plotly import graph_objects as go\n",
    "from controls.camera_controller import CameraControl, CameraControlCommand\n",
    "from controls.mqtt_fp50 import FP50Command, MQTTFP50Control\n",
    "from controls.mqtt_pump import MQTTPump\n",
    "from source.fbrm_source import FBRMSource\n",
    "from source.raman_source import RamanSource\n",
    "import ipywidgets as widgets\n"
   ]
  },
  {
   "cell_type": "code",
   "execution_count": 4,
   "metadata": {},
   "outputs": [],
   "source": [
    "# MQTT connection\n",
    "client = MQTTClientWrapper(\"experiment_taurine\")\n",
    "client.connect(\"192.168.43.1\")\n",
    "client.loop_start()"
   ]
  },
  {
   "cell_type": "markdown",
   "metadata": {},
   "source": [
    "### Image analysis"
   ]
  },
  {
   "cell_type": "code",
   "execution_count": 5,
   "metadata": {},
   "outputs": [],
   "source": [
    "# Image acquisition\n",
    "image_acquisiton_enabled = False\n",
    "\n",
    "image_source = HarvestersSource().pipe(operators.filter(lambda x: image_acquisiton_enabled), operators.share())\n",
    "image_save_sink = SaveImageSink()\n",
    "camera_control = CameraControl()\n",
    "current_exposure = 2\n",
    "\n",
    "# save image logic\n",
    "image_save_subscription = image_source.subscribe(image_save_sink)\n",
    "\n",
    "# camera controller logic\n",
    "image_mean_brightness_source = image_source.pipe(\n",
    "    operators.map(lambda x: x.image.mean())\n",
    ")\n",
    "\n",
    "# enable fan and trigger at the beginning\n",
    "camera_control.on_command(CameraControlCommand().set_exposure(current_exposure).set_trigger(True))\n",
    "\n",
    "# dataframed source\n",
    "image_brightness_branch = image_mean_brightness_source.pipe(\n",
    "    operators.sample(2),\n",
    "    operators.map(lambda x: pd.DataFrame(data=[{\"value\": x}], index=[datetime.datetime.now()]))\n",
    ")"
   ]
  },
  {
   "cell_type": "code",
   "execution_count": 6,
   "metadata": {},
   "outputs": [],
   "source": [
    "# Front end panels\n",
    "# camera visuallization logic\n",
    "camera_image_sink = JupyterImageSink(name=\"Camera\")\n",
    "camera_visuallization_subscription = image_source.pipe(operators.sample(1)).subscribe(camera_image_sink)\n",
    "\n",
    "# camera brightness visuallization logic\n",
    "mean_brightness_sink = PlotlyVisualizationSink(name=\"Mean brightness\")\n",
    "mean_brightness_visuallization_subscription = image_brightness_branch.pipe(\n",
    "    data_framer.data_framer(),\n",
    "    operators.map(lambda x: [go.Scatter(x=x.index, y=x.value)])\n",
    ").subscribe(mean_brightness_sink)"
   ]
  },
  {
   "cell_type": "markdown",
   "metadata": {},
   "source": [
    "### Pump control"
   ]
  },
  {
   "cell_type": "code",
   "execution_count": 7,
   "metadata": {},
   "outputs": [],
   "source": [
    "# back end\n",
    "pump_control = MQTTPump(client, \"pump\", \"6712580\")"
   ]
  },
  {
   "cell_type": "markdown",
   "metadata": {},
   "source": [
    "## Water bath and temperature control"
   ]
  },
  {
   "cell_type": "code",
   "execution_count": 8,
   "metadata": {},
   "outputs": [],
   "source": [
    "# Backend configuration\n",
    "\n",
    "fp50_control = MQTTFP50Control(client)\n",
    "\n",
    "fp50_dataframe_source = rx.combine_latest(fp50_control.pipe(operators.share())).pipe(\n",
    "    operators.map(lambda x: pd.DataFrame(index=[datetime.datetime.now()], data=[{ \n",
    "        \"temperature\": x[0][\"crystallizer_temperature\"], \n",
    "        \"setpoint\": x[0][\"setpoint\"],\n",
    "    }])),\n",
    ")\n",
    "\n",
    "# save file logic\n",
    "fp50_save_sink = SaveDataSink(\"fp50\", \"data\")\n",
    "fp50_save_subscription = fp50_dataframe_source.subscribe(fp50_save_sink)"
   ]
  },
  {
   "cell_type": "code",
   "execution_count": 9,
   "metadata": {},
   "outputs": [
    {
     "data": {
      "text/plain": [
       "''"
      ]
     },
     "execution_count": 9,
     "metadata": {},
     "output_type": "execute_result"
    }
   ],
   "source": [
    "# front end panels\n",
    "fp50_visualization_sink = PlotlyVisualizationSink(name=\"FP50\")\n",
    "\n",
    "fp50_visuallization_subscription = fp50_dataframe_source.pipe(\n",
    "    data_framer.data_framer(300),\n",
    "    operators.map(lambda x: [go.Scatter(x=x.index, y=x.values[:, 0], name=x.columns[0])])\n",
    ").subscribe(fp50_visualization_sink)\n",
    "fp50_visualization_sink.figure.update_layout(\n",
    "    yaxis={\"title\": \"$Temperature (^\\circ C)$\", \"side\": \"left\", \"range\": [10, 70]},\n",
    "    xaxis={\"title\": \"Time\"}\n",
    ")\n",
    ";"
   ]
  },
  {
   "cell_type": "markdown",
   "metadata": {},
   "source": [
    "### FBRM"
   ]
  },
  {
   "cell_type": "code",
   "execution_count": 10,
   "metadata": {},
   "outputs": [],
   "source": [
    "# backend configuration\n",
    "fbrm_source = FBRMSource(client, \"fbrm\").pipe(operators.share())\n",
    "\n",
    "fbrm_dataframe_source = fbrm_source.pipe(\n",
    "    operators.map(\n",
    "        lambda x: pd.DataFrame(\n",
    "            index=[datetime.datetime.now()], \n",
    "            data=[dict(zip(x[\"sizes\"], x[\"counts\"]))],\n",
    "        )\n",
    "    )\n",
    ")\n",
    "\n",
    "# save file logic\n",
    "fbrm_save_sink = SaveDataSink(\"fbrm\", \"data\")\n",
    "fbrm_save_subscription = fbrm_dataframe_source.subscribe(fbrm_save_sink)"
   ]
  },
  {
   "cell_type": "code",
   "execution_count": 11,
   "metadata": {},
   "outputs": [
    {
     "data": {
      "text/plain": [
       "''"
      ]
     },
     "execution_count": 11,
     "metadata": {},
     "output_type": "execute_result"
    }
   ],
   "source": [
    "# front end configuration\n",
    "fbrm_visuallization = PlotlyVisualizationSink(name=\"FBRM\")\n",
    "fbrm_visuallization_subscription = fbrm_source.pipe(\n",
    "    operators.map(lambda x: [go.Scatter(x=x[\"sizes\"], y=x[\"counts\"], )])\n",
    ").subscribe(fbrm_visuallization)\n",
    "\n",
    "fbrm_visuallization.figure.update_layout(xaxis={\"type\":\"log\", \"title\":\"$Size (\\mu m)$\"}, yaxis={\"title\": \"Count\"})\n",
    "\n",
    "fbrm_count_visuallization = PlotlyVisualizationSink(name=\"FBRM statistics\")\n",
    "fbrm_count_visuallization_subscription = fbrm_source.pipe(\n",
    "    operators.map(lambda x: pd.DataFrame(index=[datetime.datetime.now()], data=[{\n",
    "        \"total\": np.sum(x[\"counts\"])\n",
    "    }])),\n",
    "    data_framer.data_framer(),\n",
    "    operators.map(lambda x: [go.Scatter(x=x.index, y=x.total, )])\n",
    ").subscribe(fbrm_count_visuallization)\n",
    ";"
   ]
  },
  {
   "cell_type": "markdown",
   "metadata": {},
   "source": [
    "# Raman"
   ]
  },
  {
   "cell_type": "code",
   "execution_count": 12,
   "metadata": {},
   "outputs": [],
   "source": [
    "# backend configuration\n",
    "raman_source = RamanSource(client, \"raman\").pipe(operators.share())\n",
    "\n",
    "raman_dataframe_source = raman_source.pipe(\n",
    "    operators.map(\n",
    "        lambda x: pd.DataFrame(\n",
    "            index=[datetime.datetime.now()], \n",
    "            data=[dict(zip(x[\"wave_number\"], x[\"data\"]))],\n",
    "        )\n",
    "    )\n",
    ")\n",
    "\n",
    "# save file logic\n",
    "raman_save_sink = SaveDataSink(\"raman\", \"data\")\n",
    "raman_save_subscription = raman_dataframe_source.subscribe(raman_save_sink)"
   ]
  },
  {
   "cell_type": "code",
   "execution_count": 13,
   "metadata": {},
   "outputs": [
    {
     "data": {
      "text/plain": [
       "''"
      ]
     },
     "execution_count": 13,
     "metadata": {},
     "output_type": "execute_result"
    }
   ],
   "source": [
    "# front end configuration\n",
    "raman_visuallization = PlotlyVisualizationSink(name=\"Raman\")\n",
    "raman_visuallization_subscription = raman_source.pipe(\n",
    "    operators.map(lambda x: [go.Scatter(x=x[\"wave_number\"], y=x[\"data\"], )])\n",
    ").subscribe(raman_visuallization)\n",
    "\n",
    "raman_visuallization.figure.update_layout(xaxis={\"autorange\": \"reversed\", \"title\":\"$Wave number (cm^{-1})$\"}, yaxis={\"title\": \"Count\"})\n",
    "\n",
    ";"
   ]
  },
  {
   "cell_type": "markdown",
   "metadata": {},
   "source": [
    "## Organize widgets"
   ]
  },
  {
   "cell_type": "code",
   "execution_count": 14,
   "metadata": {},
   "outputs": [
    {
     "data": {
      "application/vnd.jupyter.widget-view+json": {
       "model_id": "017eb95e2ff14f538b077798d4c317b6",
       "version_major": 2,
       "version_minor": 0
      },
      "text/plain": [
       "VBox(children=(Box(children=(FigureWidget({\n",
       "    'data': [], 'layout': {'template': '...', 'title': {'text': 'M…"
      ]
     },
     "metadata": {},
     "output_type": "display_data"
    }
   ],
   "source": [
    "from ipywidgets import Layout, Box\n",
    "# logging panel\n",
    "# logging_output.layout = Layout(border=\"solid\", width=\"100%\", height=\"200px\", overflow=\"scroll\")\n",
    "\n",
    "# image panel\n",
    "image_panel_layout = Layout(display=\"flex\", flex_flow=\"row\", border=\"solid\", width=\"100%\")\n",
    "mean_brightness_figure = Box(children=[mean_brightness_sink.fig], layout=Layout(flex=\"1 1 0%\", width=\"auto\"))\n",
    "camera_image_sink.figure.layout = Layout(flex=\"1 1 0%\", width=\"50%\")\n",
    "image_panel = Box(children=[mean_brightness_sink.figure, camera_image_sink.figure], layout=image_panel_layout)\n",
    "\n",
    "# temperature panel\n",
    "temperature_panel = Box(children=[fp50_visualization_sink.figure], layout=\n",
    "    Layout(border=\"solid\", width=\"100%\", display=\"flex\", flex_flow=\"column\")\n",
    ")\n",
    "\n",
    "# FBRM panel\n",
    "fbrm_panel = Box(children=[fbrm_visuallization.figure, fbrm_count_visuallization.figure], layout= \n",
    "    Layout(border=\"solid\", width=\"100%\", display=\"flex\", flex_flow=\"column\")\n",
    ")\n",
    "\n",
    "# Raman Panel\n",
    "raman_panel = Box(children=[raman_visuallization.figure], layout=\n",
    "    Layout(border=\"solid\", width=\"100%\", display=\"flex\", flex_flow=\"column\")\n",
    ")\n",
    "\n",
    "\n",
    "# control panel\n",
    "event_logger_text = widgets.Text(\n",
    "    description='Event annotation:',\n",
    "    layout=Layout(width=\"100%\"),\n",
    ")\n",
    "event_logger_text.on_submit(lambda x: logging.getLogger(\"annotation\").info(x.value))\n",
    "\n",
    "\n",
    "control_panel = Box(children=[event_logger_text], layout=Layout(border=\"solid\", width=\"100%\"))\n",
    "\n",
    "# wrap up\n",
    "panel = widgets.VBox([image_panel, temperature_panel, fbrm_panel, raman_panel, control_panel])\n",
    "\n",
    "display(panel)"
   ]
  },
  {
   "cell_type": "markdown",
   "metadata": {},
   "source": [
    "## Stage 1: start up\n",
    "- RPM 300\n",
    "- Heat up to 45degc\n",
    "\n",
    "\n",
    "Waiting for FBRM to drop to 20 something\n",
    "\n",
    "Not dissolving stall at 300 something, increase to 50"
   ]
  },
  {
   "cell_type": "markdown",
   "metadata": {},
   "source": [
    "## Stage 2: slow cooling to metastable zone\n",
    "FBRM count is below 10 now, cool to 38 naturally.\n",
    "Recording"
   ]
  },
  {
   "cell_type": "code",
   "execution_count": 16,
   "metadata": {},
   "outputs": [],
   "source": [
    "pump_control.on_command(1000)\n",
    "image_acquisiton_enabled = True"
   ]
  },
  {
   "cell_type": "code",
   "execution_count": 27,
   "metadata": {},
   "outputs": [],
   "source": [
    "camera_control.on_command(CameraControlCommand().set_exposure(14))"
   ]
  },
  {
   "cell_type": "code",
   "execution_count": 15,
   "metadata": {},
   "outputs": [],
   "source": [
    "logging.getLogger(\"stage_reporter\").info(\"stage 3 starts.\")\n",
    "pump_control.on_command(800)\n",
    "image_acquisiton_enabled = True"
   ]
  },
  {
   "cell_type": "markdown",
   "metadata": {},
   "source": [
    "# Stage 3\n",
    "Linear cooling (0.5 degc / min) to 25"
   ]
  },
  {
   "cell_type": "code",
   "execution_count": 23,
   "metadata": {},
   "outputs": [],
   "source": [
    "pump_control.on_command(800)\n"
   ]
  },
  {
   "cell_type": "markdown",
   "metadata": {},
   "source": [
    "# Stage 4\n",
    "Heating to 35"
   ]
  },
  {
   "cell_type": "code",
   "execution_count": 16,
   "metadata": {},
   "outputs": [],
   "source": [
    "camera_control.on_command(CameraControlCommand().set_exposure(13))"
   ]
  },
  {
   "cell_type": "markdown",
   "metadata": {},
   "source": [
    "# Stage 5\n",
    "After dissolution, it looks very fine. Linear cooling to 25 again with 0.2 degc / min"
   ]
  },
  {
   "cell_type": "markdown",
   "metadata": {},
   "source": [
    "# Stage 6\n",
    "Interrupted Stage 5 due to too much nucleation. Up to 35 but start stage 5 again, with more seeds."
   ]
  }
 ],
 "metadata": {
  "kernelspec": {
   "display_name": "Python 3",
   "language": "python",
   "name": "python3"
  },
  "language_info": {
   "codemirror_mode": {
    "name": "ipython",
    "version": 3
   },
   "file_extension": ".py",
   "mimetype": "text/x-python",
   "name": "python",
   "nbconvert_exporter": "python",
   "pygments_lexer": "ipython3",
   "version": "3.8.5"
  }
 },
 "nbformat": 4,
 "nbformat_minor": 4
}
