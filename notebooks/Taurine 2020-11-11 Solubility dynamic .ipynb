{
 "cells": [
  {
   "cell_type": "code",
   "execution_count": 1,
   "metadata": {},
   "outputs": [],
   "source": [
    "%cd .."
   ]
  },
  {
   "cell_type": "code",
   "execution_count": 2,
   "metadata": {
    "scrolled": true
   },
   "outputs": [],
   "source": [
    "import numpy as np\n",
    "import pandas as pd\n",
    "import rx\n",
    "from rx import operators\n",
    "from rx import scheduler\n",
    "from rx import subject\n",
    "\n",
    "import logging\n",
    "import datetime\n",
    "\n",
    "from configs.config import GlobalConfig\n",
    "GlobalConfig.initialize_global_configuration(\"configs/defaults.json\")\n",
    "\n",
    "from utils.logging import configure_logger_to_output\n",
    "logging_output = configure_logger_to_output(level=logging.INFO)"
   ]
  },
  {
   "cell_type": "markdown",
   "metadata": {},
   "source": [
    "# Description\n",
    "Collect some image and Raman, FBRM information for 35 degc saturation\n",
    "Solubility = 0.143003 g/g\n",
    "water = 50 g\n",
    "need taurine = 7.150 g"
   ]
  },
  {
   "cell_type": "markdown",
   "metadata": {},
   "source": [
    "## Shared initialization"
   ]
  },
  {
   "cell_type": "code",
   "execution_count": 3,
   "metadata": {},
   "outputs": [],
   "source": [
    "from utils.mqtt_wrapper import MQTTClientWrapper\n",
    "from sources.harvesters_source import HarvestersSource\n",
    "from sinks.save_image_sink import SaveImageSink\n",
    "from sinks.save_data_sink import SaveDataSink\n",
    "from sinks.visualization_sink import JupyterImageSink, PlotlyVisualizationSink\n",
    "from datamodel.image import Image\n",
    "from operators import data_framer\n",
    "from plotly import graph_objects as go\n",
    "from controls.camera_controller import CameraControl, CameraControlCommand\n",
    "from controls.fp50 import FP50Command, FP50Control\n",
    "from controls.mqtt_pump import MQTTPump\n",
    "from sources.raman_source import RamanSource\n",
    "from sources.mqtt_ds18 import MQTTDS18Source\n",
    "from utils.auto_disposable import AutoDisposable\n",
    "\n",
    "import ipywidgets as widgets\n"
   ]
  },
  {
   "cell_type": "code",
   "execution_count": 4,
   "metadata": {},
   "outputs": [],
   "source": [
    "# MQTT connection\n",
    "client = MQTTClientWrapper(\"experiment_taurine\")\n",
    "client.connect(\"192.168.43.1\")\n",
    "client.loop_start()"
   ]
  },
  {
   "cell_type": "markdown",
   "metadata": {},
   "source": [
    "# DS18"
   ]
  },
  {
   "cell_type": "code",
   "execution_count": 5,
   "metadata": {},
   "outputs": [],
   "source": [
    "ds18 = MQTTDS18Source(client)\n",
    "ds18_save = SaveDataSink(\"ds18\", \"value\", auto_timestamp = True)\n",
    "ds18_save_subs = AutoDisposable(ds18.pipe(\n",
    "    operators.map(lambda x: pd.DataFrame(data=[{\"value\": x[\"value\"]}])),\n",
    ").subscribe(ds18_save))\n",
    "ds18_plot = PlotlyVisualizationSink(name=\"Temperature\")\n",
    "ds18_plot_subs = AutoDisposable(ds18.pipe(\n",
    "    operators.map(lambda x: pd.DataFrame(data=[{\"value\": x[\"value\"]}])),\n",
    "    data_framer.data_framer(window_length = 300, auto_timestamp = True),\n",
    "    operators.map(lambda x: [go.Scatter(x=x.timestamp, y=x.value, name=\"Temperature\")]),\n",
    ").subscribe(ds18_plot))"
   ]
  },
  {
   "cell_type": "markdown",
   "metadata": {},
   "source": [
    "## Water bath and temperature control"
   ]
  },
  {
   "cell_type": "code",
   "execution_count": 6,
   "metadata": {},
   "outputs": [],
   "source": [
    "fp50 = FP50Control(client)\n",
    "fp50_df = fp50.pipe(\n",
    "    operators.map(lambda x: pd.DataFrame(data=[{\"power\": x.power, \"setpoint\": x.setpoint, \"temperature\": x.temperature}]))\n",
    ")\n",
    "fp50_save = SaveDataSink(\"fp50\", \"data\", auto_timestamp = True)\n",
    "\n",
    "fp50_save_subs = AutoDisposable(fp50_df.subscribe(fp50_save))\n",
    "fp50_power_plot = PlotlyVisualizationSink(name=\"Power\")\n",
    "fp50_power_plot_subs = AutoDisposable(fp50_df.pipe(\n",
    "    data_framer.data_framer(window_length = 300, auto_timestamp = True),\n",
    "    operators.map(lambda x: [go.Scatter(x=x.timestamp, y=x.power, name=\"Power\")]),\n",
    ").subscribe(fp50_power_plot))\n",
    "\n",
    "fp50_temperature_plot = PlotlyVisualizationSink(name=\"Temperature\")\n",
    "fp50_temperature_plot_subs = AutoDisposable(fp50_df.pipe(\n",
    "    data_framer.data_framer(window_length = 300, auto_timestamp = True),\n",
    "    operators.map(lambda x: [go.Scatter(x=x.timestamp, y=x.temperature, name=\"Temperature\")]),\n",
    ").subscribe(fp50_temperature_plot))"
   ]
  },
  {
   "cell_type": "markdown",
   "metadata": {},
   "source": [
    "# Raman"
   ]
  },
  {
   "cell_type": "code",
   "execution_count": 7,
   "metadata": {},
   "outputs": [],
   "source": [
    "# backend configuration\n",
    "raman_source = RamanSource(client, \"raman\").pipe(operators.share())\n",
    "\n",
    "raman_dataframe_source = raman_source.pipe(\n",
    "    operators.map(\n",
    "        lambda x: pd.DataFrame(\n",
    "            index=[datetime.datetime.now()], \n",
    "            data=[dict(zip(x[\"wave_number\"], x[\"data\"]))],\n",
    "        )\n",
    "    )\n",
    ")\n",
    "\n",
    "# save file logic\n",
    "raman_save_sink = SaveDataSink(\"raman\", \"data\")\n",
    "raman_save_subscription = raman_dataframe_source.subscribe(raman_save_sink)"
   ]
  },
  {
   "cell_type": "code",
   "execution_count": 8,
   "metadata": {
    "scrolled": true
   },
   "outputs": [
    {
     "data": {
      "text/plain": [
       "''"
      ]
     },
     "execution_count": 8,
     "metadata": {},
     "output_type": "execute_result"
    }
   ],
   "source": [
    "# front end configuration\n",
    "raman_visuallization = PlotlyVisualizationSink(name=\"Raman\")\n",
    "raman_visuallization_subscription = raman_source.pipe(\n",
    "    operators.map(lambda x: [go.Scatter(x=x[\"wave_number\"], y=x[\"data\"], )])\n",
    ").subscribe(raman_visuallization)\n",
    "\n",
    "raman_visuallization.figure.update_layout(xaxis={\"autorange\": \"reversed\", \"title\":\"$Wave number (cm^{-1})$\"}, yaxis={\"title\": \"Count\"})\n",
    "\n",
    ";"
   ]
  },
  {
   "cell_type": "markdown",
   "metadata": {},
   "source": [
    "# Concentrations"
   ]
  },
  {
   "cell_type": "code",
   "execution_count": 9,
   "metadata": {},
   "outputs": [],
   "source": [
    "from properties.taurine import TaurineProperty\n",
    "taurine_property = TaurineProperty(r\"C:\\Users\\wuyua\\OneDrive - The University of Western Ontario\\Research\\Taurine\\Raman Calibration\\data\\raman_pca_linear_model.pkl\")\n",
    "def func(x):\n",
    "    d = list(x[0][\"data\"])\n",
    "    d.append(x[1][\"value\"])\n",
    "    input_data = np.array(d).reshape((1, -1))\n",
    "    y = taurine_property.raman_concentration(input_data)\n",
    "    solids = y[0][0]\n",
    "    solute = y[0][1]\n",
    "    solubility = taurine_property.solubility(x[1][\"value\"])\n",
    "    return {\"solids\": solids, \"solute\":solute, \"solubility\":solubility}\n",
    "        \n",
    "conc_src = raman_source.pipe(\n",
    "    operators.with_latest_from(ds18),\n",
    "    operators.map(func),\n",
    "    operators.share()\n",
    ")\n",
    "\n",
    "# front end configuration\n",
    "\n",
    "conc_plot = PlotlyVisualizationSink(name=\"Concentration\")\n",
    "conc_save = SaveDataSink(\"conc\", \"value\", auto_timestamp = True)\n",
    "conc_save_subs = AutoDisposable(conc_src.pipe(\n",
    "    operators.map(lambda x: pd.DataFrame(data=[x])),\n",
    ").subscribe(conc_save))\n",
    "conc_plot_subs = AutoDisposable(conc_src.pipe(\n",
    "    operators.map(lambda x: pd.DataFrame(data=[x])),\n",
    "    data_framer.data_framer(window_length = 300, auto_timestamp = True),\n",
    "    operators.map(lambda x: [go.Scatter(x=x.timestamp, y=x.solute, name=\"solute\"), go.Scatter(x=x.timestamp, y=x.solubility, name=\"solubility\"), go.Scatter(x=x.timestamp, y=x.solids, name=\"solids\")]),\n",
    ").subscribe(conc_plot))"
   ]
  },
  {
   "cell_type": "markdown",
   "metadata": {},
   "source": [
    "# FBRM"
   ]
  },
  {
   "cell_type": "code",
   "execution_count": 10,
   "metadata": {},
   "outputs": [],
   "source": [
    "from sources.fbrm_source import FBRMSource\n",
    "\n",
    "# backend configuration\n",
    "fbrm_source = FBRMSource(client, \"fbrm\").pipe(operators.share())\n",
    "\n",
    "fbrm_dataframe_source = fbrm_source.pipe(\n",
    "    operators.map(\n",
    "        lambda x: pd.DataFrame(\n",
    "            index=[datetime.datetime.now()], \n",
    "            data=[dict(zip(x[\"sizes\"], x[\"counts\"]))],\n",
    "        )\n",
    "    )\n",
    ")\n",
    "\n",
    "# save file logic\n",
    "fbrm_save_sink = SaveDataSink(\"fbrm\", \"data\")\n",
    "fbrm_save_subscription = fbrm_dataframe_source.subscribe(fbrm_save_sink)"
   ]
  },
  {
   "cell_type": "code",
   "execution_count": 11,
   "metadata": {},
   "outputs": [],
   "source": [
    "# front end configuration\n",
    "fbrm_visuallization = PlotlyVisualizationSink(name=\"FBRM\")\n",
    "fbrm_visuallization_subscription = fbrm_source.pipe(\n",
    "    operators.map(lambda x: [go.Scatter(x=x[\"sizes\"], y=x[\"counts\"], )])\n",
    ").subscribe(fbrm_visuallization)\n",
    "\n",
    "fbrm_visuallization.figure.update_layout(xaxis={\"type\":\"log\", \"title\":\"$Size (\\mu m)$\"}, yaxis={\"title\": \"Count\"})\n",
    "\n",
    "fbrm_count_visuallization = PlotlyVisualizationSink(name=\"FBRM statistics\")\n",
    "fbrm_count_visuallization_subscription = fbrm_source.pipe(\n",
    "    operators.map(lambda x: pd.DataFrame(index=[datetime.datetime.now()], data=[{\n",
    "        \"total\": np.sum(x[\"counts\"])\n",
    "    }])),\n",
    "    data_framer.data_framer(),\n",
    "    operators.map(lambda x: [go.Scatter(x=x.index, y=x.total, )])\n",
    ").subscribe(fbrm_count_visuallization)\n",
    ";\n",
    "fbrm_trend_visuallization = PlotlyVisualizationSink(name=\"FBRM Trend\")\n",
    "fbrm_visuallization_subscription = fbrm_source.pipe(\n",
    "    operators.map(lambda x: pd.DataFrame(data=[{\"total_count\": sum(x[\"counts\"])}])),\n",
    "    data_framer.data_framer(window_length = 300, auto_timestamp = True),\n",
    "    operators.map(lambda x: [go.Scatter(x=x.timestamp, y=x[\"total_count\"], name=\"Total count\")])\n",
    ").subscribe(fbrm_trend_visuallization)"
   ]
  },
  {
   "cell_type": "markdown",
   "metadata": {},
   "source": [
    "## Organize widgets"
   ]
  },
  {
   "cell_type": "code",
   "execution_count": 42,
   "metadata": {
    "scrolled": false
   },
   "outputs": [
    {
     "data": {
      "application/vnd.jupyter.widget-view+json": {
       "model_id": "3100c1054ddc467c937968b3e760f6af",
       "version_major": 2,
       "version_minor": 0
      },
      "text/plain": [
       "VBox(children=(VBox(children=(FigureWidget({\n",
       "    'data': [{'name': 'Power',\n",
       "              'type': 'scatter',\n",
       " …"
      ]
     },
     "metadata": {},
     "output_type": "display_data"
    }
   ],
   "source": [
    "from ipywidgets import Layout, Box, VBox\n",
    "# logging panel\n",
    "# logging_output.layout = Layout(border=\"solid\", width=\"100%\", height=\"200px\", overflow=\"scroll\")\n",
    "\n",
    "# temperature panel\n",
    "temperature_panel = VBox(children=[fp50_power_plot.figure, fp50_temperature_plot.figure, ds18_plot.figure], layout=\n",
    "    Layout(border=\"solid\", width=\"100%\", display=\"flex\", flex_flow=\"column\")\n",
    ")\n",
    "\n",
    "# FBRM panel\n",
    "fbrm_panel = VBox(children=[fbrm_visuallization.figure, fbrm_trend_visuallization.figure], layout=\n",
    "    Layout(border=\"solid\", width=\"100%\", display=\"flex\", flex_flow=\"column\")\n",
    ")\n",
    "\n",
    "\n",
    "# Raman Panel\n",
    "raman_panel = Box(children=[raman_visuallization.figure], layout=\n",
    "    Layout(border=\"solid\", width=\"100%\", display=\"flex\", flex_flow=\"column\")\n",
    ")\n",
    "\n",
    "# Concentration panel\n",
    "conc_panel = Box(children=[conc_plot.figure], layout=\n",
    "    Layout(border=\"solid\", width=\"100%\", display=\"flex\", flex_flow=\"column\")\n",
    ")\n",
    "\n",
    "\n",
    "# control panel\n",
    "event_logger_text = widgets.Text(\n",
    "    description='Event annotation:',\n",
    "    layout=Layout(width=\"100%\"),\n",
    ")\n",
    "event_logger_text.on_submit(lambda x: logging.getLogger(\"annotation\").info(x.value))\n",
    "\n",
    "\n",
    "control_panel = Box(children=[event_logger_text], layout=Layout(border=\"solid\", width=\"100%\"))\n",
    "\n",
    "# wrap up\n",
    "panel = widgets.VBox([temperature_panel, fbrm_panel, raman_panel, conc_panel, control_panel])\n",
    "\n",
    "display(panel)"
   ]
  },
  {
   "cell_type": "code",
   "execution_count": 41,
   "metadata": {},
   "outputs": [],
   "source": [
    "delta_t = 5\n",
    "start =24.9\n",
    "cooling_rate = -0.04/60 # d/s\n",
    "end = 25.2\n",
    "\n",
    "subs = rx.interval(delta_t).pipe(\n",
    "    operators.map(lambda x: start - x*delta_t * cooling_rate),\n",
    "    operators.take_while(lambda x: x < end),\n",
    "    operators.map(lambda x: FP50Command(round(x, 2))),\n",
    ").subscribe(lambda x: fp50.on_command(x))"
   ]
  },
  {
   "cell_type": "code",
   "execution_count": 40,
   "metadata": {},
   "outputs": [],
   "source": [
    "subs.dispose()"
   ]
  },
  {
   "cell_type": "code",
   "execution_count": 63,
   "metadata": {},
   "outputs": [],
   "source": [
    "fp50.on_command(FP50Command(32.3))"
   ]
  },
  {
   "cell_type": "code",
   "execution_count": null,
   "metadata": {},
   "outputs": [],
   "source": []
  }
 ],
 "metadata": {
  "kernelspec": {
   "display_name": "Python 3",
   "language": "python",
   "name": "python3"
  },
  "language_info": {
   "codemirror_mode": {
    "name": "ipython",
    "version": 3
   },
   "file_extension": ".py",
   "mimetype": "text/x-python",
   "name": "python",
   "nbconvert_exporter": "python",
   "pygments_lexer": "ipython3",
   "version": "3.8.5"
  }
 },
 "nbformat": 4,
 "nbformat_minor": 4
}
