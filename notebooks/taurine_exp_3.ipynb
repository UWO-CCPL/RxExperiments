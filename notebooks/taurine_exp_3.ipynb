{
 "cells": [
  {
   "cell_type": "code",
   "execution_count": 1,
   "metadata": {},
   "outputs": [
    {
     "name": "stdout",
     "output_type": "stream",
     "text": [
      "C:\\Users\\wuyua\\Projects\\PycharmProjects\\RxExperiments\n"
     ]
    }
   ],
   "source": [
    "%cd .."
   ]
  },
  {
   "cell_type": "code",
   "execution_count": 2,
   "metadata": {
    "scrolled": true
   },
   "outputs": [],
   "source": [
    "import numpy as np\n",
    "import pandas as pd\n",
    "import rx\n",
    "from rx import operators\n",
    "from rx import scheduler\n",
    "from rx import subject\n",
    "\n",
    "import logging\n",
    "import datetime\n",
    "\n",
    "from configs.config import GlobalConfig\n",
    "GlobalConfig.initialize_global_configuration(\"configs/defaults.json\")\n",
    "\n",
    "from utils.logging import configure_logger_to_output\n",
    "logging_output = configure_logger_to_output(level=logging.INFO)"
   ]
  },
  {
   "cell_type": "markdown",
   "metadata": {},
   "source": [
    "# Description\n",
    "Collect some image and Raman, FBRM information for 35 degc saturation\n",
    "Solubility = 0.143003 g/g\n",
    "water = 50 g\n",
    "need taurine = 7.150 g"
   ]
  },
  {
   "cell_type": "markdown",
   "metadata": {},
   "source": [
    "## Shared initialization"
   ]
  },
  {
   "cell_type": "code",
   "execution_count": 3,
   "metadata": {},
   "outputs": [],
   "source": [
    "from utils.mqtt_wrapper import MQTTClientWrapper\n",
    "from sources.harvesters_source import HarvestersSource\n",
    "from sinks.save_image_sink import SaveImageSink\n",
    "from sinks.save_data_sink import SaveDataSink\n",
    "from sinks.visualization_sink import JupyterImageSink, PlotlyVisualizationSink\n",
    "from datamodel.image import Image\n",
    "from operators import data_framer\n",
    "from plotly import graph_objects as go\n",
    "from controls.camera_controller import CameraControl, CameraControlCommand\n",
    "from controls.fp50 import FP50Command, FP50Control\n",
    "from controls.mqtt_pump import MQTTPump\n",
    "from sources.raman_source import RamanSource\n",
    "from sources.mqtt_ds18 import MQTTDS18Source\n",
    "from utils.auto_disposable import AutoDisposable\n",
    "\n",
    "import ipywidgets as widgets\n"
   ]
  },
  {
   "cell_type": "code",
   "execution_count": 4,
   "metadata": {},
   "outputs": [],
   "source": [
    "# MQTT connection\n",
    "client = MQTTClientWrapper(\"experiment_taurine\")\n",
    "client.connect(\"192.168.43.1\")\n",
    "client.loop_start()"
   ]
  },
  {
   "cell_type": "markdown",
   "metadata": {},
   "source": [
    "### Image analysis"
   ]
  },
  {
   "cell_type": "code",
   "execution_count": 5,
   "metadata": {},
   "outputs": [],
   "source": [
    "# Image acquisition\n",
    "image_acquisiton_enabled = False\n",
    "\n",
    "image_source = HarvestersSource().pipe(operators.filter(lambda x: image_acquisiton_enabled), operators.share())\n",
    "image_save_sink = SaveImageSink()\n",
    "camera_control = CameraControl()\n",
    "current_exposure = 5\n",
    "\n",
    "# save image logic\n",
    "image_save_subscription = image_source.subscribe(image_save_sink)\n",
    "\n",
    "# camera controller logic\n",
    "image_mean_brightness_source = image_source.pipe(\n",
    "    operators.map(lambda x: x.image.mean())\n",
    ")\n",
    "\n",
    "# enable fan and trigger at the beginning\n",
    "camera_control.on_command(CameraControlCommand().set_exposure(current_exposure).set_trigger(True))\n",
    "\n",
    "# dataframed source\n",
    "image_brightness_branch = image_mean_brightness_source.pipe(\n",
    "    operators.sample(2),\n",
    "    operators.map(lambda x: pd.DataFrame(data=[{\"value\": x}], index=[datetime.datetime.now()]))\n",
    ")"
   ]
  },
  {
   "cell_type": "code",
   "execution_count": 6,
   "metadata": {},
   "outputs": [],
   "source": [
    "# Front end panels\n",
    "# camera visuallization logic\n",
    "camera_image_sink = JupyterImageSink(name=\"Camera\")\n",
    "camera_visuallization_subscription = image_source.pipe(operators.sample(1)).subscribe(camera_image_sink)\n",
    "\n",
    "# camera brightness visuallization logic\n",
    "mean_brightness_sink = PlotlyVisualizationSink(name=\"Mean brightness\")\n",
    "mean_brightness_visuallization_subscription = image_brightness_branch.pipe(\n",
    "    data_framer.data_framer(),\n",
    "    operators.map(lambda x: [go.Scatter(x=x.index, y=x.value)])\n",
    ").subscribe(mean_brightness_sink)"
   ]
  },
  {
   "cell_type": "markdown",
   "metadata": {},
   "source": [
    "# DS18"
   ]
  },
  {
   "cell_type": "code",
   "execution_count": 7,
   "metadata": {},
   "outputs": [],
   "source": [
    "ds18 = MQTTDS18Source(client)\n",
    "ds18_save = SaveDataSink(\"ds18\", \"value\", auto_timestamp = True)\n",
    "ds18_save_subs = AutoDisposable(ds18.pipe(\n",
    "    operators.map(lambda x: pd.DataFrame(data=[{\"value\": x[\"value\"]}])),\n",
    ").subscribe(ds18_save))\n",
    "ds18_plot = PlotlyVisualizationSink(name=\"Temperature\")\n",
    "ds18_plot_subs = AutoDisposable(ds18.pipe(\n",
    "    operators.map(lambda x: pd.DataFrame(data=[{\"value\": x[\"value\"]}])),\n",
    "    data_framer.data_framer(window_length = 300, auto_timestamp = True),\n",
    "    operators.map(lambda x: [go.Scatter(x=x.timestamp, y=x.value, name=\"Temperature\")]),\n",
    ").subscribe(ds18_plot))"
   ]
  },
  {
   "cell_type": "markdown",
   "metadata": {},
   "source": [
    "## Water bath and temperature control"
   ]
  },
  {
   "cell_type": "code",
   "execution_count": 8,
   "metadata": {},
   "outputs": [],
   "source": [
    "fp50 = FP50Control(client)\n",
    "fp50_df = fp50.pipe(\n",
    "    operators.map(lambda x: pd.DataFrame(data=[{\"power\": x.power, \"setpoint\": x.setpoint, \"temperature\": x.temperature}]))\n",
    ")\n",
    "fp50_save = SaveDataSink(\"fp50\", \"data\", auto_timestamp = True)\n",
    "\n",
    "fp50_save_subs = AutoDisposable(fp50_df.subscribe(fp50_save))\n",
    "fp50_power_plot = PlotlyVisualizationSink(name=\"Power\")\n",
    "fp50_power_plot_subs = AutoDisposable(fp50_df.pipe(\n",
    "    data_framer.data_framer(window_length = 300, auto_timestamp = True),\n",
    "    operators.map(lambda x: [go.Scatter(x=x.timestamp, y=x.power, name=\"Power\")]),\n",
    ").subscribe(fp50_power_plot))\n",
    "\n",
    "fp50_temperature_plot = PlotlyVisualizationSink(name=\"Temperature\")\n",
    "fp50_temperature_plot_subs = AutoDisposable(fp50_df.pipe(\n",
    "    data_framer.data_framer(window_length = 300, auto_timestamp = True),\n",
    "    operators.map(lambda x: [go.Scatter(x=x.timestamp, y=x.temperature, name=\"Temperature\")]),\n",
    ").subscribe(fp50_temperature_plot))"
   ]
  },
  {
   "cell_type": "markdown",
   "metadata": {},
   "source": [
    "# Raman"
   ]
  },
  {
   "cell_type": "code",
   "execution_count": 9,
   "metadata": {},
   "outputs": [],
   "source": [
    "# backend configuration\n",
    "raman_source = RamanSource(client, \"raman\").pipe(operators.share())\n",
    "\n",
    "raman_dataframe_source = raman_source.pipe(\n",
    "    operators.map(\n",
    "        lambda x: pd.DataFrame(\n",
    "            index=[datetime.datetime.now()], \n",
    "            data=[dict(zip(x[\"wave_number\"], x[\"data\"]))],\n",
    "        )\n",
    "    )\n",
    ")\n",
    "\n",
    "# save file logic\n",
    "raman_save_sink = SaveDataSink(\"raman\", \"data\")\n",
    "raman_save_subscription = raman_dataframe_source.subscribe(raman_save_sink)"
   ]
  },
  {
   "cell_type": "code",
   "execution_count": 10,
   "metadata": {},
   "outputs": [
    {
     "data": {
      "text/plain": [
       "''"
      ]
     },
     "execution_count": 10,
     "metadata": {},
     "output_type": "execute_result"
    }
   ],
   "source": [
    "# front end configuration\n",
    "raman_visuallization = PlotlyVisualizationSink(name=\"Raman\")\n",
    "raman_visuallization_subscription = raman_source.pipe(\n",
    "    operators.map(lambda x: [go.Scatter(x=x[\"wave_number\"], y=x[\"data\"], )])\n",
    ").subscribe(raman_visuallization)\n",
    "\n",
    "raman_visuallization.figure.update_layout(xaxis={\"autorange\": \"reversed\", \"title\":\"$Wave number (cm^{-1})$\"}, yaxis={\"title\": \"Count\"})\n",
    "\n",
    ";"
   ]
  },
  {
   "cell_type": "markdown",
   "metadata": {},
   "source": [
    "## Organize widgets"
   ]
  },
  {
   "cell_type": "code",
   "execution_count": 11,
   "metadata": {},
   "outputs": [
    {
     "data": {
      "application/vnd.jupyter.widget-view+json": {
       "model_id": "67e06753b464437c8b2e8d46bf245e0a",
       "version_major": 2,
       "version_minor": 0
      },
      "text/plain": [
       "VBox(children=(Box(children=(FigureWidget({\n",
       "    'data': [], 'layout': {'template': '...', 'title': {'text': 'M…"
      ]
     },
     "metadata": {},
     "output_type": "display_data"
    }
   ],
   "source": [
    "from ipywidgets import Layout, Box, VBox\n",
    "# logging panel\n",
    "# logging_output.layout = Layout(border=\"solid\", width=\"100%\", height=\"200px\", overflow=\"scroll\")\n",
    "\n",
    "# image panel\n",
    "image_panel_layout = Layout(display=\"flex\", flex_flow=\"row\", border=\"solid\", width=\"100%\")\n",
    "mean_brightness_figure = Box(children=[mean_brightness_sink.fig], layout=Layout(flex=\"1 1 0%\", width=\"auto\"))\n",
    "camera_image_sink.figure.layout = Layout(flex=\"1 1 0%\", width=\"50%\")\n",
    "image_panel = Box(children=[mean_brightness_sink.figure, camera_image_sink.figure], layout=image_panel_layout)\n",
    "\n",
    "# temperature panel\n",
    "temperature_panel = VBox(children=[fp50_power_plot.figure, fp50_temperature_plot.figure, ds18_plot.figure], layout=\n",
    "    Layout(border=\"solid\", width=\"100%\", display=\"flex\", flex_flow=\"column\")\n",
    ")\n",
    "\n",
    "# Raman Panel\n",
    "raman_panel = Box(children=[raman_visuallization.figure], layout=\n",
    "    Layout(border=\"solid\", width=\"100%\", display=\"flex\", flex_flow=\"column\")\n",
    ")\n",
    "\n",
    "\n",
    "# control panel\n",
    "event_logger_text = widgets.Text(\n",
    "    description='Event annotation:',\n",
    "    layout=Layout(width=\"100%\"),\n",
    ")\n",
    "event_logger_text.on_submit(lambda x: logging.getLogger(\"annotation\").info(x.value))\n",
    "\n",
    "\n",
    "control_panel = Box(children=[event_logger_text], layout=Layout(border=\"solid\", width=\"100%\"))\n",
    "\n",
    "# wrap up\n",
    "panel = widgets.VBox([image_panel, temperature_panel, raman_panel, control_panel])\n",
    "\n",
    "display(panel)"
   ]
  },
  {
   "cell_type": "code",
   "execution_count": 12,
   "metadata": {},
   "outputs": [],
   "source": [
    "image_acquisiton_enabled = True"
   ]
  },
  {
   "cell_type": "code",
   "execution_count": 13,
   "metadata": {},
   "outputs": [],
   "source": [
    "camera_control.on_command(CameraControlCommand().set_exposure(10))"
   ]
  },
  {
   "cell_type": "code",
   "execution_count": 14,
   "metadata": {},
   "outputs": [],
   "source": [
    "delta_t = 5\n",
    "start = 21.5\n",
    "cooling_rate = 0.2/60 # d/s\n",
    "end = 20\n",
    "\n",
    "subs = rx.interval(delta_t).pipe(\n",
    "    operators.map(lambda x: start - x*delta_t * cooling_rate),\n",
    "    operators.take_while(lambda x: x > end),\n",
    "    operators.map(lambda x: FP50Command(x))\n",
    ").subscribe(fp50)"
   ]
  },
  {
   "cell_type": "code",
   "execution_count": 15,
   "metadata": {},
   "outputs": [],
   "source": [
    "subs.dispose()"
   ]
  },
  {
   "cell_type": "code",
   "execution_count": 18,
   "metadata": {},
   "outputs": [],
   "source": [
    "fp50.on_command(FP50Command(30.5))"
   ]
  }
 ],
 "metadata": {
  "kernelspec": {
   "display_name": "Python 3",
   "language": "python",
   "name": "python3"
  },
  "language_info": {
   "codemirror_mode": {
    "name": "ipython",
    "version": 3
   },
   "file_extension": ".py",
   "mimetype": "text/x-python",
   "name": "python",
   "nbconvert_exporter": "python",
   "pygments_lexer": "ipython3",
   "version": "3.8.5"
  }
 },
 "nbformat": 4,
 "nbformat_minor": 4
}
